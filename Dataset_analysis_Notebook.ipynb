{
 "cells": [
  {
   "cell_type": "markdown",
   "id": "7737523e",
   "metadata": {},
   "source": [
    "# Analysis of the Stack Overflow Developer Survey Dataset\n",
    "\n",
    "## Focus of the Analysis\n",
    "\n",
    "I want to analyze what contibutest to developers Job Satisfaction"
   ]
  },
  {
   "cell_type": "code",
   "execution_count": 1,
   "id": "ccb62efc",
   "metadata": {
    "scrolled": true
   },
   "outputs": [],
   "source": [
    "# import python modules\n",
    "\n",
    "import pandas as pd\n",
    "import os\n",
    "import seaborn as sns\n",
    "from sklearn.linear_model import LinearRegression\n",
    "from sklearn.model_selection import train_test_split\n",
    "from sklearn.metrics import r2_score, mean_squared_error\n",
    "\n",
    "import matplotlib.pyplot as plt "
   ]
  },
  {
   "cell_type": "code",
   "execution_count": null,
   "id": "ab8b8548",
   "metadata": {},
   "outputs": [],
   "source": []
  },
  {
   "cell_type": "code",
   "execution_count": 2,
   "id": "18e17944",
   "metadata": {},
   "outputs": [
    {
     "data": {
      "text/html": [
       "<div>\n",
       "<style scoped>\n",
       "    .dataframe tbody tr th:only-of-type {\n",
       "        vertical-align: middle;\n",
       "    }\n",
       "\n",
       "    .dataframe tbody tr th {\n",
       "        vertical-align: top;\n",
       "    }\n",
       "\n",
       "    .dataframe thead th {\n",
       "        text-align: right;\n",
       "    }\n",
       "</style>\n",
       "<table border=\"1\" class=\"dataframe\">\n",
       "  <thead>\n",
       "    <tr style=\"text-align: right;\">\n",
       "      <th></th>\n",
       "      <th>Respondent</th>\n",
       "      <th>Professional</th>\n",
       "      <th>ProgramHobby</th>\n",
       "      <th>Country</th>\n",
       "      <th>University</th>\n",
       "      <th>EmploymentStatus</th>\n",
       "      <th>FormalEducation</th>\n",
       "      <th>MajorUndergrad</th>\n",
       "      <th>HomeRemote</th>\n",
       "      <th>CompanySize</th>\n",
       "      <th>...</th>\n",
       "      <th>StackOverflowMakeMoney</th>\n",
       "      <th>Gender</th>\n",
       "      <th>HighestEducationParents</th>\n",
       "      <th>Race</th>\n",
       "      <th>SurveyLong</th>\n",
       "      <th>QuestionsInteresting</th>\n",
       "      <th>QuestionsConfusing</th>\n",
       "      <th>InterestedAnswers</th>\n",
       "      <th>Salary</th>\n",
       "      <th>ExpectedSalary</th>\n",
       "    </tr>\n",
       "  </thead>\n",
       "  <tbody>\n",
       "    <tr>\n",
       "      <th>0</th>\n",
       "      <td>1</td>\n",
       "      <td>Student</td>\n",
       "      <td>Yes, both</td>\n",
       "      <td>United States</td>\n",
       "      <td>No</td>\n",
       "      <td>Not employed, and not looking for work</td>\n",
       "      <td>Secondary school</td>\n",
       "      <td>NaN</td>\n",
       "      <td>NaN</td>\n",
       "      <td>NaN</td>\n",
       "      <td>...</td>\n",
       "      <td>Strongly disagree</td>\n",
       "      <td>Male</td>\n",
       "      <td>High school</td>\n",
       "      <td>White or of European descent</td>\n",
       "      <td>Strongly disagree</td>\n",
       "      <td>Strongly agree</td>\n",
       "      <td>Disagree</td>\n",
       "      <td>Strongly agree</td>\n",
       "      <td>NaN</td>\n",
       "      <td>NaN</td>\n",
       "    </tr>\n",
       "    <tr>\n",
       "      <th>1</th>\n",
       "      <td>2</td>\n",
       "      <td>Student</td>\n",
       "      <td>Yes, both</td>\n",
       "      <td>United Kingdom</td>\n",
       "      <td>Yes, full-time</td>\n",
       "      <td>Employed part-time</td>\n",
       "      <td>Some college/university study without earning ...</td>\n",
       "      <td>Computer science or software engineering</td>\n",
       "      <td>More than half, but not all, the time</td>\n",
       "      <td>20 to 99 employees</td>\n",
       "      <td>...</td>\n",
       "      <td>Strongly disagree</td>\n",
       "      <td>Male</td>\n",
       "      <td>A master's degree</td>\n",
       "      <td>White or of European descent</td>\n",
       "      <td>Somewhat agree</td>\n",
       "      <td>Somewhat agree</td>\n",
       "      <td>Disagree</td>\n",
       "      <td>Strongly agree</td>\n",
       "      <td>NaN</td>\n",
       "      <td>37500.0</td>\n",
       "    </tr>\n",
       "    <tr>\n",
       "      <th>2</th>\n",
       "      <td>3</td>\n",
       "      <td>Professional developer</td>\n",
       "      <td>Yes, both</td>\n",
       "      <td>United Kingdom</td>\n",
       "      <td>No</td>\n",
       "      <td>Employed full-time</td>\n",
       "      <td>Bachelor's degree</td>\n",
       "      <td>Computer science or software engineering</td>\n",
       "      <td>Less than half the time, but at least one day ...</td>\n",
       "      <td>10,000 or more employees</td>\n",
       "      <td>...</td>\n",
       "      <td>Disagree</td>\n",
       "      <td>Male</td>\n",
       "      <td>A professional degree</td>\n",
       "      <td>White or of European descent</td>\n",
       "      <td>Somewhat agree</td>\n",
       "      <td>Agree</td>\n",
       "      <td>Disagree</td>\n",
       "      <td>Agree</td>\n",
       "      <td>113750.0</td>\n",
       "      <td>NaN</td>\n",
       "    </tr>\n",
       "    <tr>\n",
       "      <th>3</th>\n",
       "      <td>4</td>\n",
       "      <td>Professional non-developer who sometimes write...</td>\n",
       "      <td>Yes, both</td>\n",
       "      <td>United States</td>\n",
       "      <td>No</td>\n",
       "      <td>Employed full-time</td>\n",
       "      <td>Doctoral degree</td>\n",
       "      <td>A non-computer-focused engineering discipline</td>\n",
       "      <td>Less than half the time, but at least one day ...</td>\n",
       "      <td>10,000 or more employees</td>\n",
       "      <td>...</td>\n",
       "      <td>Disagree</td>\n",
       "      <td>Male</td>\n",
       "      <td>A doctoral degree</td>\n",
       "      <td>White or of European descent</td>\n",
       "      <td>Agree</td>\n",
       "      <td>Agree</td>\n",
       "      <td>Somewhat agree</td>\n",
       "      <td>Strongly agree</td>\n",
       "      <td>NaN</td>\n",
       "      <td>NaN</td>\n",
       "    </tr>\n",
       "    <tr>\n",
       "      <th>4</th>\n",
       "      <td>5</td>\n",
       "      <td>Professional developer</td>\n",
       "      <td>Yes, I program as a hobby</td>\n",
       "      <td>Switzerland</td>\n",
       "      <td>No</td>\n",
       "      <td>Employed full-time</td>\n",
       "      <td>Master's degree</td>\n",
       "      <td>Computer science or software engineering</td>\n",
       "      <td>Never</td>\n",
       "      <td>10 to 19 employees</td>\n",
       "      <td>...</td>\n",
       "      <td>NaN</td>\n",
       "      <td>NaN</td>\n",
       "      <td>NaN</td>\n",
       "      <td>NaN</td>\n",
       "      <td>NaN</td>\n",
       "      <td>NaN</td>\n",
       "      <td>NaN</td>\n",
       "      <td>NaN</td>\n",
       "      <td>NaN</td>\n",
       "      <td>NaN</td>\n",
       "    </tr>\n",
       "  </tbody>\n",
       "</table>\n",
       "<p>5 rows × 154 columns</p>\n",
       "</div>"
      ],
      "text/plain": [
       "   Respondent                                       Professional  \\\n",
       "0           1                                            Student   \n",
       "1           2                                            Student   \n",
       "2           3                             Professional developer   \n",
       "3           4  Professional non-developer who sometimes write...   \n",
       "4           5                             Professional developer   \n",
       "\n",
       "                ProgramHobby         Country      University  \\\n",
       "0                  Yes, both   United States              No   \n",
       "1                  Yes, both  United Kingdom  Yes, full-time   \n",
       "2                  Yes, both  United Kingdom              No   \n",
       "3                  Yes, both   United States              No   \n",
       "4  Yes, I program as a hobby     Switzerland              No   \n",
       "\n",
       "                         EmploymentStatus  \\\n",
       "0  Not employed, and not looking for work   \n",
       "1                      Employed part-time   \n",
       "2                      Employed full-time   \n",
       "3                      Employed full-time   \n",
       "4                      Employed full-time   \n",
       "\n",
       "                                     FormalEducation  \\\n",
       "0                                   Secondary school   \n",
       "1  Some college/university study without earning ...   \n",
       "2                                  Bachelor's degree   \n",
       "3                                    Doctoral degree   \n",
       "4                                    Master's degree   \n",
       "\n",
       "                                  MajorUndergrad  \\\n",
       "0                                            NaN   \n",
       "1       Computer science or software engineering   \n",
       "2       Computer science or software engineering   \n",
       "3  A non-computer-focused engineering discipline   \n",
       "4       Computer science or software engineering   \n",
       "\n",
       "                                          HomeRemote  \\\n",
       "0                                                NaN   \n",
       "1              More than half, but not all, the time   \n",
       "2  Less than half the time, but at least one day ...   \n",
       "3  Less than half the time, but at least one day ...   \n",
       "4                                              Never   \n",
       "\n",
       "                CompanySize  ... StackOverflowMakeMoney Gender  \\\n",
       "0                       NaN  ...      Strongly disagree   Male   \n",
       "1        20 to 99 employees  ...      Strongly disagree   Male   \n",
       "2  10,000 or more employees  ...               Disagree   Male   \n",
       "3  10,000 or more employees  ...               Disagree   Male   \n",
       "4        10 to 19 employees  ...                    NaN    NaN   \n",
       "\n",
       "  HighestEducationParents                          Race         SurveyLong  \\\n",
       "0             High school  White or of European descent  Strongly disagree   \n",
       "1       A master's degree  White or of European descent     Somewhat agree   \n",
       "2   A professional degree  White or of European descent     Somewhat agree   \n",
       "3       A doctoral degree  White or of European descent              Agree   \n",
       "4                     NaN                           NaN                NaN   \n",
       "\n",
       "  QuestionsInteresting QuestionsConfusing InterestedAnswers    Salary  \\\n",
       "0       Strongly agree           Disagree    Strongly agree       NaN   \n",
       "1       Somewhat agree           Disagree    Strongly agree       NaN   \n",
       "2                Agree           Disagree             Agree  113750.0   \n",
       "3                Agree     Somewhat agree    Strongly agree       NaN   \n",
       "4                  NaN                NaN               NaN       NaN   \n",
       "\n",
       "   ExpectedSalary  \n",
       "0             NaN  \n",
       "1         37500.0  \n",
       "2             NaN  \n",
       "3             NaN  \n",
       "4             NaN  \n",
       "\n",
       "[5 rows x 154 columns]"
      ]
     },
     "execution_count": 2,
     "metadata": {},
     "output_type": "execute_result"
    }
   ],
   "source": [
    "# load the dataset\n",
    "\n",
    "df = pd.read_csv(os.path.join('data','survey_results_public.csv'))\n",
    "\n",
    "df.head()"
   ]
  },
  {
   "cell_type": "markdown",
   "id": "92454237",
   "metadata": {},
   "source": [
    "## Understand the Data\n"
   ]
  },
  {
   "cell_type": "code",
   "execution_count": 3,
   "id": "4f0a2886",
   "metadata": {},
   "outputs": [
    {
     "data": {
      "text/plain": [
       "<AxesSubplot:>"
      ]
     },
     "execution_count": 3,
     "metadata": {},
     "output_type": "execute_result"
    },
    {
     "data": {
      "image/png": "[encoded data removed]",
      "text/plain": [
       "<Figure size 640x480 with 1 Axes>"
      ]
     },
     "metadata": {},
     "output_type": "display_data"
    }
   ],
   "source": [
    "# plot HoursPerWeek as histogram\n",
    "df['JobSatisfaction'].hist()"
   ]
  },
  {
   "cell_type": "code",
   "execution_count": 4,
   "id": "905c2625",
   "metadata": {},
   "outputs": [
    {
     "name": "stdout",
     "output_type": "stream",
     "text": [
      "['Not employed, and not looking for work' 'Employed part-time'\n",
      " 'Employed full-time'\n",
      " 'Independent contractor, freelancer, or self-employed'\n",
      " 'Not employed, but looking for work' 'I prefer not to say' 'Retired']\n"
     ]
    }
   ],
   "source": [
    "print(df['EmploymentStatus'].unique())"
   ]
  },
  {
   "cell_type": "code",
   "execution_count": 5,
   "id": "e6f54f91",
   "metadata": {},
   "outputs": [
    {
     "data": {
      "text/plain": [
       "<seaborn.axisgrid.FacetGrid at 0x19710f2e9a0>"
      ]
     },
     "execution_count": 5,
     "metadata": {},
     "output_type": "execute_result"
    },
    {
     "data": {
      "image/png": "[encoded data removed]",
      "text/plain": [
       "<Figure size 900x300 with 3 Axes>"
      ]
     },
     "metadata": {},
     "output_type": "display_data"
    }
   ],
   "source": [
    "# lets look, how the job satisfaction varies with employment status\n",
    "relevant_employment_status = ['Employed full-time','Employed part-time','Independent contractor, freelancer, or self-employed']\n",
    "\n",
    "g = sns.FacetGrid(df[df['EmploymentStatus'].isin(relevant_employment_status)], col=\"EmploymentStatus\")\n",
    "g.map(sns.histplot, \"JobSatisfaction\")"
   ]
  },
  {
   "cell_type": "code",
   "execution_count": 6,
   "id": "696df301",
   "metadata": {},
   "outputs": [
    {
     "name": "stdout",
     "output_type": "stream",
     "text": [
      "['Student' 'Professional developer'\n",
      " 'Professional non-developer who sometimes writes code'\n",
      " 'Used to be a professional developer' 'None of these']\n"
     ]
    }
   ],
   "source": [
    "print(df['Professional'].unique())"
   ]
  },
  {
   "cell_type": "code",
   "execution_count": 7,
   "id": "4439857e",
   "metadata": {},
   "outputs": [
    {
     "data": {
      "text/plain": [
       "<seaborn.axisgrid.FacetGrid at 0x19713140df0>"
      ]
     },
     "execution_count": 7,
     "metadata": {},
     "output_type": "execute_result"
    },
    {
     "data": {
      "image/png": "[encoded data removed]",
      "text/plain": [
       "<Figure size 900x300 with 3 Axes>"
      ]
     },
     "metadata": {},
     "output_type": "display_data"
    }
   ],
   "source": [
    "# lets look how Job Satisfaction varies with profession\n",
    "relevant_professional =['Professional developer','Professional non-developer who sometimes writes code','Used to be a professional developer']\n",
    "\n",
    "g = sns.FacetGrid(df[df['Professional'].isin(relevant_professional)], col=\"Professional\")\n",
    "g.map(sns.histplot, \"JobSatisfaction\")"
   ]
  },
  {
   "cell_type": "markdown",
   "id": "f7755708",
   "metadata": {},
   "source": [
    "## Prepare the Data\n",
    "\n",
    "### Filter for the group of people I want to take a closer look at\n",
    "\n",
    "As I want to analyze work hours of developers, I want to limit my dataset to the answers of respondends who are employed. To make it comparable, I choose only full-time employed respondents.\n",
    "\n",
    "Also I only want answers from professional developers because this is the subset of respondents I am interested in\n"
   ]
  },
  {
   "cell_type": "code",
   "execution_count": 8,
   "id": "2fa87fde",
   "metadata": {},
   "outputs": [
    {
     "name": "stdout",
     "output_type": "stream",
     "text": [
      "The proportion of working professional developers in the dataset is: 0.6873832503113325\n"
     ]
    }
   ],
   "source": [
    "# Limit the dataset to the answers from professional developers\n",
    "dev_subset = df[(df['Professional'] == 'Professional developer') & (df['EmploymentStatus'].isin(relevant_employment_status))]\n",
    "\n",
    "#check how much of the data are within this group of respondents\n",
    "print('The proportion of working professional developers in the dataset is:',(len(dev_subset)/len(df)))"
   ]
  },
  {
   "cell_type": "markdown",
   "id": "17e04afb",
   "metadata": {},
   "source": [
    "The subset I choose, contains 69% of all respondents. I think this in big enough to get good results "
   ]
  },
  {
   "cell_type": "markdown",
   "id": "672a929f",
   "metadata": {},
   "source": [
    "## Select the features \n",
    "I am interestes in how external factors, such as company size and type, and personal factors, such as job satisfaction, contribute to the working hours of the developers. Therefore, I am going to limit my dataset to the following columns: \n",
    "\n",
    "external factors: Country, HomeRemote, CompanySize, CompanyType, DeveloperType, YearsCodedJob, Salary\n",
    "\n",
    "internal factors: ProgramHobby, CareerSatisfaction, JobSatisfaction, LastNewJob, WorkPayCare, KinshipDevelopers, FriendsDevelopers"
   ]
  },
  {
   "cell_type": "code",
   "execution_count": 9,
   "id": "b38d1d15",
   "metadata": {},
   "outputs": [
    {
     "name": "stdout",
     "output_type": "stream",
     "text": [
      "<class 'pandas.core.frame.DataFrame'>\n",
      "Int64Index: 35326 entries, 2 to 51390\n",
      "Data columns (total 15 columns):\n",
      " #   Column              Non-Null Count  Dtype  \n",
      "---  ------              --------------  -----  \n",
      " 0   JobSatisfaction     34955 non-null  float64\n",
      " 1   Country             35326 non-null  object \n",
      " 2   HomeRemote          35281 non-null  object \n",
      " 3   CompanySize         31595 non-null  object \n",
      " 4   CompanyType         31528 non-null  object \n",
      " 5   DeveloperType       35317 non-null  object \n",
      " 6   YearsCodedJob       35051 non-null  object \n",
      " 7   Salary              12891 non-null  float64\n",
      " 8   EmploymentStatus    35326 non-null  object \n",
      " 9   ProgramHobby        35326 non-null  object \n",
      " 10  CareerSatisfaction  35023 non-null  float64\n",
      " 11  LastNewJob          23184 non-null  object \n",
      " 12  WorkPayCare         22102 non-null  object \n",
      " 13  KinshipDevelopers   21916 non-null  object \n",
      " 14  Gender              25599 non-null  object \n",
      "dtypes: float64(3), object(12)\n",
      "memory usage: 4.3+ MB\n",
      "None\n"
     ]
    }
   ],
   "source": [
    "y_col = ['JobSatisfaction']\n",
    "\n",
    "external_factor_cols = ['Country','HomeRemote','CompanySize','CompanyType','DeveloperType','YearsCodedJob','Salary','EmploymentStatus']\n",
    "\n",
    "internal_factor_cols =['ProgramHobby','CareerSatisfaction','LastNewJob','WorkPayCare','KinshipDevelopers','Gender']\n",
    "\n",
    "cols_to_keep = y_col + external_factor_cols + internal_factor_cols\n",
    "\n",
    "dev_subset = dev_subset[cols_to_keep]\n",
    "\n",
    "print(dev_subset.info())"
   ]
  },
  {
   "cell_type": "markdown",
   "id": "905081df",
   "metadata": {},
   "source": [
    "The Columns JobSatisfaction, Salary and CareerSatiafaction are numerical columns. All other features are cathegorical. \n",
    "\n",
    "Also The Salary column has a lot of missing values that needs imputing. "
   ]
  },
  {
   "cell_type": "markdown",
   "id": "daa63b62",
   "metadata": {},
   "source": [
    "## How do we impute the missing values in the salary colum\n",
    "\n",
    "I will try out two different ways of handling the missing values in the salary column: \n",
    "\n",
    "1) Droping the rows with missing values\n",
    "2) Imputing with the median of the dataset\n",
    "3) using a linear model to predict the missing Salary columns and then use this model to fill the columns"
   ]
  },
  {
   "cell_type": "code",
   "execution_count": 10,
   "id": "95c9c719",
   "metadata": {},
   "outputs": [
    {
     "data": {
      "text/plain": [
       "<seaborn.axisgrid.FacetGrid at 0x1971337f400>"
      ]
     },
     "execution_count": 10,
     "metadata": {},
     "output_type": "execute_result"
    },
    {
     "data": {
      "image/png": "[encoded data removed]",
      "text/plain": [
       "<Figure size 900x300 with 3 Axes>"
      ]
     },
     "metadata": {},
     "output_type": "display_data"
    }
   ],
   "source": [
    "g = sns.FacetGrid(dev_subset, col=\"EmploymentStatus\")\n",
    "g.map(sns.histplot, \"Salary\")"
   ]
  },
  {
   "cell_type": "markdown",
   "id": "7dd82c5f",
   "metadata": {},
   "source": [
    "This plot shows, that by dropping the rows with the missing salary information would lead to eliminating all the self-employed respondends form the dataset althought we do not even know jet, how much Salary contributes to the Job satisfaction. \n",
    "\n",
    "When we compare the salay plots for the Full-time and half-time employed respondends, we see, that using the mean is also not a good choice."
   ]
  },
  {
   "cell_type": "markdown",
   "id": "8ed64808",
   "metadata": {},
   "source": [
    "### preparing a dataset for each method to handle missing salary entrys"
   ]
  },
  {
   "cell_type": "code",
   "execution_count": 11,
   "id": "c6b3f525",
   "metadata": {},
   "outputs": [
    {
     "name": "stdout",
     "output_type": "stream",
     "text": [
      "<class 'pandas.core.frame.DataFrame'>\n",
      "Int64Index: 12891 entries, 2 to 51390\n",
      "Data columns (total 15 columns):\n",
      " #   Column              Non-Null Count  Dtype  \n",
      "---  ------              --------------  -----  \n",
      " 0   JobSatisfaction     12852 non-null  float64\n",
      " 1   Country             12891 non-null  object \n",
      " 2   HomeRemote          12883 non-null  object \n",
      " 3   CompanySize         12880 non-null  object \n",
      " 4   CompanyType         12868 non-null  object \n",
      " 5   DeveloperType       12889 non-null  object \n",
      " 6   YearsCodedJob       12834 non-null  object \n",
      " 7   Salary              12891 non-null  float64\n",
      " 8   EmploymentStatus    12891 non-null  object \n",
      " 9   ProgramHobby        12891 non-null  object \n",
      " 10  CareerSatisfaction  12861 non-null  float64\n",
      " 11  LastNewJob          9078 non-null   object \n",
      " 12  WorkPayCare         8874 non-null   object \n",
      " 13  KinshipDevelopers   8817 non-null   object \n",
      " 14  Gender              11709 non-null  object \n",
      "dtypes: float64(3), object(12)\n",
      "memory usage: 1.6+ MB\n"
     ]
    }
   ],
   "source": [
    "# Prearing a dataset where columns with mean salary are droppend\n",
    "dev_subset_1 = dev_subset.dropna(subset=['Salary'])\n",
    "\n",
    "dev_subset_1.info()"
   ]
  },
  {
   "cell_type": "code",
   "execution_count": 12,
   "id": "39ccb0dd",
   "metadata": {},
   "outputs": [
    {
     "name": "stdout",
     "output_type": "stream",
     "text": [
      "<class 'pandas.core.frame.DataFrame'>\n",
      "Int64Index: 35326 entries, 2 to 51390\n",
      "Data columns (total 15 columns):\n",
      " #   Column              Non-Null Count  Dtype  \n",
      "---  ------              --------------  -----  \n",
      " 0   JobSatisfaction     34955 non-null  float64\n",
      " 1   Country             35326 non-null  object \n",
      " 2   HomeRemote          35281 non-null  object \n",
      " 3   CompanySize         31595 non-null  object \n",
      " 4   CompanyType         31528 non-null  object \n",
      " 5   DeveloperType       35317 non-null  object \n",
      " 6   YearsCodedJob       35051 non-null  object \n",
      " 7   Salary              35326 non-null  float64\n",
      " 8   EmploymentStatus    35326 non-null  object \n",
      " 9   ProgramHobby        35326 non-null  object \n",
      " 10  CareerSatisfaction  35023 non-null  float64\n",
      " 11  LastNewJob          23184 non-null  object \n",
      " 12  WorkPayCare         22102 non-null  object \n",
      " 13  KinshipDevelopers   21916 non-null  object \n",
      " 14  Gender              25599 non-null  object \n",
      "dtypes: float64(3), object(12)\n",
      "memory usage: 4.3+ MB\n"
     ]
    }
   ],
   "source": [
    "# preparing a subset where all missing salary information are filled with the median salary \n",
    "dev_subset_2 = dev_subset.copy()\n",
    "\n",
    "dev_subset_2['Salary'].fillna(dev_subset_2['Salary'].median(), inplace=True)\n",
    "\n",
    "dev_subset_2.info()"
   ]
  },
  {
   "cell_type": "code",
   "execution_count": 24,
   "id": "166e0708",
   "metadata": {},
   "outputs": [],
   "source": [
    "#functions for all the operations needed to perform a linear regression \n",
    "\n",
    "def prepare_df(df): \n",
    "    \n",
    "    # Fill numeric columns with the mean\n",
    "    num_vars = df.select_dtypes(include=['float', 'int']).columns\n",
    "    \n",
    "    for col in num_vars:\n",
    "        \n",
    "            df[col].fillna((df[col].mean()), inplace=True)\n",
    "        \n",
    "    # Dummy columns for the categorical variables\n",
    "    cat_vars = df.select_dtypes(include=['object']).copy().columns\n",
    "    \n",
    "    for var in  cat_vars:\n",
    "        \n",
    "        dummy_df = pd.get_dummies(df[var], prefix=var, prefix_sep='_', drop_first=True)\n",
    "        \n",
    "        df = pd.concat([df.drop(var, axis=1), dummy_df], axis=1)\n",
    "    \n",
    "    return df\n",
    "\n",
    "def perform_linear_regression(X,y): \n",
    "    \n",
    "    #Split into train and test\n",
    "    X_train, X_test, y_train, y_test = train_test_split(X, y, test_size=.3, random_state=42)\n",
    "    \n",
    "    lm_model = LinearRegression() # Instantiate\n",
    "    lm_model.fit(X_train, y_train) #Fit\n",
    "\n",
    "    #Predict using your model\n",
    "    y_test_preds = lm_model.predict(X_test)\n",
    "    y_train_preds = lm_model.predict(X_train)\n",
    "\n",
    "    #Score using your model\n",
    "    test_score = r2_score(y_test, y_test_preds)\n",
    "    train_score = r2_score(y_train, y_train_preds)\n",
    "    \n",
    "    return test_score, train_score, lm_model, X_train, X_test, y_train, y_test\n",
    "\n"
   ]
  },
  {
   "cell_type": "code",
   "execution_count": 25,
   "id": "cd041319",
   "metadata": {},
   "outputs": [
    {
     "name": "stdout",
     "output_type": "stream",
     "text": [
      "test score: 0.6947336974101258\n",
      "train score: 0.7661408478997023\n",
      "(9023, 1174)\n"
     ]
    }
   ],
   "source": [
    "#predict the missing salary entries\n",
    "\n",
    "# Choose columns to predict the salary\n",
    "subset_fit_salary = dev_subset.drop(columns='JobSatisfaction')\n",
    "    \n",
    "missing_salary_mask = subset_fit_salary['Salary'].notna()\n",
    "\n",
    "# train the linear model on the subset with salaries\n",
    "\n",
    "X_reg = prepare_df(subset_fit_salary[missing_salary_mask].drop(columns='Salary'))\n",
    "\n",
    "y_reg = subset_fit_salary[missing_salary_mask]['Salary']\n",
    "\n",
    "Res = perform_linear_regression(X_reg, y_reg)\n",
    "\n",
    "print('test score:',Res[0])\n",
    "print('train score:',Res[1])\n",
    "\n",
    "print(Res[3].shape)\n",
    "\n",
    "lm_model = Res[2]"
   ]
  },
  {
   "cell_type": "code",
   "execution_count": 26,
   "id": "68a22974",
   "metadata": {},
   "outputs": [],
   "source": [
    "# get X that matches the subset with missing salary to fit salary\n",
    "\n",
    "X_prepared = prepare_df(subset_fit_salary.drop(columns='Salary'))\n",
    "\n",
    "#keep only columns that match the fitted data\n",
    "X_prepared =X_prepared[Res[3].columns]\n",
    "\n",
    "y_predict = lm_model.predict(X_prepared[~missing_salary_mask])\n"
   ]
  },
  {
   "cell_type": "code",
   "execution_count": 27,
   "id": "78f017b7",
   "metadata": {},
   "outputs": [
    {
     "name": "stdout",
     "output_type": "stream",
     "text": [
      "<class 'pandas.core.frame.DataFrame'>\n",
      "Int64Index: 35326 entries, 2 to 51389\n",
      "Data columns (total 15 columns):\n",
      " #   Column              Non-Null Count  Dtype  \n",
      "---  ------              --------------  -----  \n",
      " 0   JobSatisfaction     34955 non-null  float64\n",
      " 1   Country             35326 non-null  object \n",
      " 2   HomeRemote          35281 non-null  object \n",
      " 3   CompanySize         31595 non-null  object \n",
      " 4   CompanyType         31528 non-null  object \n",
      " 5   DeveloperType       35317 non-null  object \n",
      " 6   YearsCodedJob       35051 non-null  object \n",
      " 7   Salary              35326 non-null  float64\n",
      " 8   EmploymentStatus    35326 non-null  object \n",
      " 9   ProgramHobby        35326 non-null  object \n",
      " 10  CareerSatisfaction  35023 non-null  float64\n",
      " 11  LastNewJob          23184 non-null  object \n",
      " 12  WorkPayCare         22102 non-null  object \n",
      " 13  KinshipDevelopers   21916 non-null  object \n",
      " 14  Gender              25599 non-null  object \n",
      "dtypes: float64(3), object(12)\n",
      "memory usage: 4.3+ MB\n"
     ]
    }
   ],
   "source": [
    "# fill the misssing Salaries with the predicted one\n",
    "\n",
    "dev_subset_3_w_salary = dev_subset[missing_salary_mask].copy()\n",
    "\n",
    "dev_subset_3_wo_salary = dev_subset[~missing_salary_mask].copy()\n",
    "\n",
    "dev_subset_3_wo_salary.loc[:,'Salary'] =y_predict\n",
    "\n",
    "dev_subset_3 = pd.concat([dev_subset_3_w_salary,dev_subset_3_wo_salary])\n",
    "\n",
    "dev_subset_3.info()"
   ]
  },
  {
   "cell_type": "code",
   "execution_count": 28,
   "id": "58745db3",
   "metadata": {},
   "outputs": [
    {
     "data": {
      "text/plain": [
       "1513"
      ]
     },
     "execution_count": 28,
     "metadata": {},
     "output_type": "execute_result"
    },
    {
     "data": {
      "image/png": "[encoded data removed]",
      "text/plain": [
       "<Figure size 640x480 with 1 Axes>"
      ]
     },
     "metadata": {},
     "output_type": "display_data"
    }
   ],
   "source": [
    "dev_subset_3['Salary'].hist()\n",
    "\n",
    "#how many Salaries were predicted below 0\n",
    "(y_predict <= 0).sum()"
   ]
  },
  {
   "cell_type": "code",
   "execution_count": 29,
   "id": "92a0af45",
   "metadata": {},
   "outputs": [
    {
     "data": {
      "text/plain": [
       "0.0"
      ]
     },
     "execution_count": 29,
     "metadata": {},
     "output_type": "execute_result"
    }
   ],
   "source": [
    "dev_subset['Salary'].min()"
   ]
  },
  {
   "cell_type": "markdown",
   "id": "f81841f3",
   "metadata": {},
   "source": [
    "We can see, that the regression returned negative Salaries. I will replace them with a Salay of 0 as the original Dataset also contains Salaries of 0"
   ]
  },
  {
   "cell_type": "code",
   "execution_count": 30,
   "id": "259c64eb",
   "metadata": {},
   "outputs": [
    {
     "name": "stderr",
     "output_type": "stream",
     "text": [
      "C:\\Users\\akg\\AppData\\Local\\Temp\\ipykernel_1524\\2630548422.py:1: SettingWithCopyWarning: \n",
      "A value is trying to be set on a copy of a slice from a DataFrame\n",
      "\n",
      "See the caveats in the documentation: https://pandas.pydata.org/pandas-docs/stable/user_guide/indexing.html#returning-a-view-versus-a-copy\n",
      "  dev_subset_3['Salary'][dev_subset_3['Salary'] < 0] = 0\n"
     ]
    }
   ],
   "source": [
    "dev_subset_3['Salary'][dev_subset_3['Salary'] < 0] = 0 "
   ]
  },
  {
   "cell_type": "code",
   "execution_count": 31,
   "id": "7d005103",
   "metadata": {},
   "outputs": [
    {
     "data": {
      "text/plain": [
       "<AxesSubplot:>"
      ]
     },
     "execution_count": 31,
     "metadata": {},
     "output_type": "execute_result"
    },
    {
     "data": {
      "image/png": "[encoded data removed]",
      "text/plain": [
       "<Figure size 640x480 with 1 Axes>"
      ]
     },
     "metadata": {},
     "output_type": "display_data"
    }
   ],
   "source": [
    "dev_subset_3['Salary'].hist()"
   ]
  },
  {
   "cell_type": "markdown",
   "id": "922fb3ba",
   "metadata": {},
   "source": [
    "## Linear regression \n",
    "\n",
    "### methon 1"
   ]
  },
  {
   "cell_type": "code",
   "execution_count": 34,
   "id": "6d6f8de7",
   "metadata": {},
   "outputs": [
    {
     "name": "stdout",
     "output_type": "stream",
     "text": [
      "test score: 0.32819866185491164\n",
      "train score: 0.47380365836500504\n"
     ]
    }
   ],
   "source": [
    "# linear regression of dev_subset_1\n",
    "\n",
    "dev_subset_1_for_fitting = dev_subset_1.dropna(subset=['JobSatisfaction'])\n",
    "\n",
    "X_reg = prepare_df(dev_subset_1_for_fitting.drop(columns='JobSatisfaction'))\n",
    "\n",
    "y_reg = dev_subset_1_for_fitting['JobSatisfaction']\n",
    "\n",
    "Res = perform_linear_regression(X_reg, y_reg)\n",
    "\n",
    "print('test score:',Res[0])\n",
    "print('train score:',Res[1])"
   ]
  },
  {
   "cell_type": "markdown",
   "id": "0b7c2ae7",
   "metadata": {},
   "source": [
    "### metod 2"
   ]
  },
  {
   "cell_type": "code",
   "execution_count": 35,
   "id": "deb2d22c",
   "metadata": {},
   "outputs": [
    {
     "name": "stdout",
     "output_type": "stream",
     "text": [
      "test score: -1503078122197.187\n",
      "train score: 0.47200324826807194\n"
     ]
    }
   ],
   "source": [
    "# linear regression of dev_subset_1\n",
    "\n",
    "dev_subset_2_for_fitting = dev_subset_2.dropna(subset=['JobSatisfaction'])\n",
    "\n",
    "X_reg = prepare_df(dev_subset_2_for_fitting.drop(columns='JobSatisfaction'))\n",
    "\n",
    "y_reg = dev_subset_2_for_fitting['JobSatisfaction']\n",
    "\n",
    "Res = perform_linear_regression(X_reg, y_reg)\n",
    "\n",
    "print('test score:',Res[0])\n",
    "print('train score:',Res[1])"
   ]
  },
  {
   "cell_type": "code",
   "execution_count": 36,
   "id": "dd539a95",
   "metadata": {},
   "outputs": [
    {
     "name": "stdout",
     "output_type": "stream",
     "text": [
      "test score: -81223265413.9408\n",
      "train score: 0.46714913104441946\n"
     ]
    }
   ],
   "source": [
    "# linear regression of dev_subset_1\n",
    "\n",
    "dev_subset_3_for_fitting = dev_subset_3.dropna(subset=['JobSatisfaction'])\n",
    "\n",
    "X_reg = prepare_df(dev_subset_3_for_fitting.drop(columns='JobSatisfaction'))\n",
    "\n",
    "y_reg = dev_subset_3_for_fitting['JobSatisfaction']\n",
    "\n",
    "Res = perform_linear_regression(X_reg, y_reg)\n",
    "\n",
    "print('test score:',Res[0])\n",
    "print('train score:',Res[1])"
   ]
  },
  {
   "cell_type": "code",
   "execution_count": null,
   "id": "8881b696",
   "metadata": {},
   "outputs": [],
   "source": []
  }
 ],
 "metadata": {
  "kernelspec": {
   "display_name": "Python 3 (ipykernel)",
   "language": "python",
   "name": "python3"
  },
  "language_info": {
   "codemirror_mode": {
    "name": "ipython",
    "version": 3
   },
   "file_extension": ".py",
   "mimetype": "text/x-python",
   "name": "python",
   "nbconvert_exporter": "python",
   "pygments_lexer": "ipython3",
   "version": "3.8.8"
  }
 },
 "nbformat": 4,
 "nbformat_minor": 5
}
