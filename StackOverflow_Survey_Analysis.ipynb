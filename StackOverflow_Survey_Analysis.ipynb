{
 "cells": [
  {
   "cell_type": "markdown",
   "id": "7737523e",
   "metadata": {},
   "source": [
    "# Analysis of the Stack Overflow Developer Survey Dataset\n",
    "\n",
    "## Focus of the Analysis\n",
    "\n",
    "I want to analyze how Salary contributes to Job Satisfaction "
   ]
  },
  {
   "cell_type": "code",
   "execution_count": 1,
   "id": "ccb62efc",
   "metadata": {
    "scrolled": true
   },
   "outputs": [],
   "source": [
    "# import python modules\n",
    "import pandas as pd\n",
    "import os\n",
    "import seaborn as sns\n",
    "from sklearn.linear_model import LinearRegression\n",
    "from sklearn.model_selection import train_test_split\n",
    "from sklearn.metrics import r2_score, mean_squared_error\n",
    "from sklearn.preprocessing import MinMaxScaler\n",
    "\n",
    "import matplotlib.pyplot as plt \n",
    "import numpy as np"
   ]
  },
  {
   "cell_type": "markdown",
   "id": "e5d0cf6a",
   "metadata": {},
   "source": [
    "# Step 1: Load the data and get an overview"
   ]
  },
  {
   "cell_type": "code",
   "execution_count": 2,
   "id": "18e17944",
   "metadata": {},
   "outputs": [
    {
     "data": {
      "text/html": [
       "<div>\n",
       "<style scoped>\n",
       "    .dataframe tbody tr th:only-of-type {\n",
       "        vertical-align: middle;\n",
       "    }\n",
       "\n",
       "    .dataframe tbody tr th {\n",
       "        vertical-align: top;\n",
       "    }\n",
       "\n",
       "    .dataframe thead th {\n",
       "        text-align: right;\n",
       "    }\n",
       "</style>\n",
       "<table border=\"1\" class=\"dataframe\">\n",
       "  <thead>\n",
       "    <tr style=\"text-align: right;\">\n",
       "      <th></th>\n",
       "      <th>Respondent</th>\n",
       "      <th>Professional</th>\n",
       "      <th>ProgramHobby</th>\n",
       "      <th>Country</th>\n",
       "      <th>University</th>\n",
       "      <th>EmploymentStatus</th>\n",
       "      <th>FormalEducation</th>\n",
       "      <th>MajorUndergrad</th>\n",
       "      <th>HomeRemote</th>\n",
       "      <th>CompanySize</th>\n",
       "      <th>...</th>\n",
       "      <th>StackOverflowMakeMoney</th>\n",
       "      <th>Gender</th>\n",
       "      <th>HighestEducationParents</th>\n",
       "      <th>Race</th>\n",
       "      <th>SurveyLong</th>\n",
       "      <th>QuestionsInteresting</th>\n",
       "      <th>QuestionsConfusing</th>\n",
       "      <th>InterestedAnswers</th>\n",
       "      <th>Salary</th>\n",
       "      <th>ExpectedSalary</th>\n",
       "    </tr>\n",
       "  </thead>\n",
       "  <tbody>\n",
       "    <tr>\n",
       "      <th>0</th>\n",
       "      <td>1</td>\n",
       "      <td>Student</td>\n",
       "      <td>Yes, both</td>\n",
       "      <td>United States</td>\n",
       "      <td>No</td>\n",
       "      <td>Not employed, and not looking for work</td>\n",
       "      <td>Secondary school</td>\n",
       "      <td>NaN</td>\n",
       "      <td>NaN</td>\n",
       "      <td>NaN</td>\n",
       "      <td>...</td>\n",
       "      <td>Strongly disagree</td>\n",
       "      <td>Male</td>\n",
       "      <td>High school</td>\n",
       "      <td>White or of European descent</td>\n",
       "      <td>Strongly disagree</td>\n",
       "      <td>Strongly agree</td>\n",
       "      <td>Disagree</td>\n",
       "      <td>Strongly agree</td>\n",
       "      <td>NaN</td>\n",
       "      <td>NaN</td>\n",
       "    </tr>\n",
       "    <tr>\n",
       "      <th>1</th>\n",
       "      <td>2</td>\n",
       "      <td>Student</td>\n",
       "      <td>Yes, both</td>\n",
       "      <td>United Kingdom</td>\n",
       "      <td>Yes, full-time</td>\n",
       "      <td>Employed part-time</td>\n",
       "      <td>Some college/university study without earning ...</td>\n",
       "      <td>Computer science or software engineering</td>\n",
       "      <td>More than half, but not all, the time</td>\n",
       "      <td>20 to 99 employees</td>\n",
       "      <td>...</td>\n",
       "      <td>Strongly disagree</td>\n",
       "      <td>Male</td>\n",
       "      <td>A master's degree</td>\n",
       "      <td>White or of European descent</td>\n",
       "      <td>Somewhat agree</td>\n",
       "      <td>Somewhat agree</td>\n",
       "      <td>Disagree</td>\n",
       "      <td>Strongly agree</td>\n",
       "      <td>NaN</td>\n",
       "      <td>37500.0</td>\n",
       "    </tr>\n",
       "    <tr>\n",
       "      <th>2</th>\n",
       "      <td>3</td>\n",
       "      <td>Professional developer</td>\n",
       "      <td>Yes, both</td>\n",
       "      <td>United Kingdom</td>\n",
       "      <td>No</td>\n",
       "      <td>Employed full-time</td>\n",
       "      <td>Bachelor's degree</td>\n",
       "      <td>Computer science or software engineering</td>\n",
       "      <td>Less than half the time, but at least one day ...</td>\n",
       "      <td>10,000 or more employees</td>\n",
       "      <td>...</td>\n",
       "      <td>Disagree</td>\n",
       "      <td>Male</td>\n",
       "      <td>A professional degree</td>\n",
       "      <td>White or of European descent</td>\n",
       "      <td>Somewhat agree</td>\n",
       "      <td>Agree</td>\n",
       "      <td>Disagree</td>\n",
       "      <td>Agree</td>\n",
       "      <td>113750.0</td>\n",
       "      <td>NaN</td>\n",
       "    </tr>\n",
       "    <tr>\n",
       "      <th>3</th>\n",
       "      <td>4</td>\n",
       "      <td>Professional non-developer who sometimes write...</td>\n",
       "      <td>Yes, both</td>\n",
       "      <td>United States</td>\n",
       "      <td>No</td>\n",
       "      <td>Employed full-time</td>\n",
       "      <td>Doctoral degree</td>\n",
       "      <td>A non-computer-focused engineering discipline</td>\n",
       "      <td>Less than half the time, but at least one day ...</td>\n",
       "      <td>10,000 or more employees</td>\n",
       "      <td>...</td>\n",
       "      <td>Disagree</td>\n",
       "      <td>Male</td>\n",
       "      <td>A doctoral degree</td>\n",
       "      <td>White or of European descent</td>\n",
       "      <td>Agree</td>\n",
       "      <td>Agree</td>\n",
       "      <td>Somewhat agree</td>\n",
       "      <td>Strongly agree</td>\n",
       "      <td>NaN</td>\n",
       "      <td>NaN</td>\n",
       "    </tr>\n",
       "    <tr>\n",
       "      <th>4</th>\n",
       "      <td>5</td>\n",
       "      <td>Professional developer</td>\n",
       "      <td>Yes, I program as a hobby</td>\n",
       "      <td>Switzerland</td>\n",
       "      <td>No</td>\n",
       "      <td>Employed full-time</td>\n",
       "      <td>Master's degree</td>\n",
       "      <td>Computer science or software engineering</td>\n",
       "      <td>Never</td>\n",
       "      <td>10 to 19 employees</td>\n",
       "      <td>...</td>\n",
       "      <td>NaN</td>\n",
       "      <td>NaN</td>\n",
       "      <td>NaN</td>\n",
       "      <td>NaN</td>\n",
       "      <td>NaN</td>\n",
       "      <td>NaN</td>\n",
       "      <td>NaN</td>\n",
       "      <td>NaN</td>\n",
       "      <td>NaN</td>\n",
       "      <td>NaN</td>\n",
       "    </tr>\n",
       "  </tbody>\n",
       "</table>\n",
       "<p>5 rows × 154 columns</p>\n",
       "</div>"
      ],
      "text/plain": [
       "   Respondent                                       Professional  \\\n",
       "0           1                                            Student   \n",
       "1           2                                            Student   \n",
       "2           3                             Professional developer   \n",
       "3           4  Professional non-developer who sometimes write...   \n",
       "4           5                             Professional developer   \n",
       "\n",
       "                ProgramHobby         Country      University  \\\n",
       "0                  Yes, both   United States              No   \n",
       "1                  Yes, both  United Kingdom  Yes, full-time   \n",
       "2                  Yes, both  United Kingdom              No   \n",
       "3                  Yes, both   United States              No   \n",
       "4  Yes, I program as a hobby     Switzerland              No   \n",
       "\n",
       "                         EmploymentStatus  \\\n",
       "0  Not employed, and not looking for work   \n",
       "1                      Employed part-time   \n",
       "2                      Employed full-time   \n",
       "3                      Employed full-time   \n",
       "4                      Employed full-time   \n",
       "\n",
       "                                     FormalEducation  \\\n",
       "0                                   Secondary school   \n",
       "1  Some college/university study without earning ...   \n",
       "2                                  Bachelor's degree   \n",
       "3                                    Doctoral degree   \n",
       "4                                    Master's degree   \n",
       "\n",
       "                                  MajorUndergrad  \\\n",
       "0                                            NaN   \n",
       "1       Computer science or software engineering   \n",
       "2       Computer science or software engineering   \n",
       "3  A non-computer-focused engineering discipline   \n",
       "4       Computer science or software engineering   \n",
       "\n",
       "                                          HomeRemote  \\\n",
       "0                                                NaN   \n",
       "1              More than half, but not all, the time   \n",
       "2  Less than half the time, but at least one day ...   \n",
       "3  Less than half the time, but at least one day ...   \n",
       "4                                              Never   \n",
       "\n",
       "                CompanySize  ... StackOverflowMakeMoney Gender  \\\n",
       "0                       NaN  ...      Strongly disagree   Male   \n",
       "1        20 to 99 employees  ...      Strongly disagree   Male   \n",
       "2  10,000 or more employees  ...               Disagree   Male   \n",
       "3  10,000 or more employees  ...               Disagree   Male   \n",
       "4        10 to 19 employees  ...                    NaN    NaN   \n",
       "\n",
       "  HighestEducationParents                          Race         SurveyLong  \\\n",
       "0             High school  White or of European descent  Strongly disagree   \n",
       "1       A master's degree  White or of European descent     Somewhat agree   \n",
       "2   A professional degree  White or of European descent     Somewhat agree   \n",
       "3       A doctoral degree  White or of European descent              Agree   \n",
       "4                     NaN                           NaN                NaN   \n",
       "\n",
       "  QuestionsInteresting QuestionsConfusing InterestedAnswers    Salary  \\\n",
       "0       Strongly agree           Disagree    Strongly agree       NaN   \n",
       "1       Somewhat agree           Disagree    Strongly agree       NaN   \n",
       "2                Agree           Disagree             Agree  113750.0   \n",
       "3                Agree     Somewhat agree    Strongly agree       NaN   \n",
       "4                  NaN                NaN               NaN       NaN   \n",
       "\n",
       "   ExpectedSalary  \n",
       "0             NaN  \n",
       "1         37500.0  \n",
       "2             NaN  \n",
       "3             NaN  \n",
       "4             NaN  \n",
       "\n",
       "[5 rows x 154 columns]"
      ]
     },
     "execution_count": 2,
     "metadata": {},
     "output_type": "execute_result"
    }
   ],
   "source": [
    "# load the dataset\n",
    "# Dataset downloaded from: https://www.kaggle.com/datasets/stackoverflow/so-survey-2017\n",
    "df = pd.read_csv(os.path.join('data','survey_results_public.csv'))\n",
    "\n",
    "df.head()"
   ]
  },
  {
   "cell_type": "code",
   "execution_count": 124,
   "id": "72e36d41",
   "metadata": {},
   "outputs": [
    {
     "name": "stdout",
     "output_type": "stream",
     "text": [
      "(51392, 154)\n"
     ]
    }
   ],
   "source": [
    "#shape of the data\n",
    "print(df.shape)"
   ]
  },
  {
   "cell_type": "code",
   "execution_count": 127,
   "id": "d231b3e4",
   "metadata": {},
   "outputs": [
    {
     "name": "stdout",
     "output_type": "stream",
     "text": [
      "201\n"
     ]
    }
   ],
   "source": [
    "#how many countrys\n",
    "print(len(df['Country'].unique()))"
   ]
  },
  {
   "cell_type": "markdown",
   "id": "1328e9d8",
   "metadata": {},
   "source": [
    "## Step 2: Narrow down the data"
   ]
  },
  {
   "cell_type": "markdown",
   "id": "c2510b83",
   "metadata": {},
   "source": [
    "I want to narrwo the data down to the columns I selected from reading the documentation on Kaggle (https://www.kaggle.com/datasets/stackoverflow/so-survey-2017) "
   ]
  },
  {
   "cell_type": "code",
   "execution_count": 3,
   "id": "6c036886",
   "metadata": {},
   "outputs": [],
   "source": [
    "cols_to_use = ['JobSatisfaction','Country','HomeRemote','CompanySize','CompanyType','DeveloperType','YearsCodedJob','Salary','EmploymentStatus','ProgramHobby','CareerSatisfaction','LastNewJob','WorkPayCare','KinshipDevelopers','Gender','Professional']\n",
    "\n",
    "dev_subset = df[cols_to_use].copy()"
   ]
  },
  {
   "cell_type": "markdown",
   "id": "cf6ea6fc",
   "metadata": {},
   "source": [
    "And I want to narrow the data down to professional developers with some kind of employment"
   ]
  },
  {
   "cell_type": "code",
   "execution_count": 4,
   "id": "76fe48d4",
   "metadata": {},
   "outputs": [
    {
     "name": "stdout",
     "output_type": "stream",
     "text": [
      "['Not employed, and not looking for work' 'Employed part-time'\n",
      " 'Employed full-time'\n",
      " 'Independent contractor, freelancer, or self-employed'\n",
      " 'Not employed, but looking for work' 'I prefer not to say' 'Retired']\n"
     ]
    }
   ],
   "source": [
    "# I want to narrow the data down to respondends with some kind of employment\n",
    "print(dev_subset['EmploymentStatus'].unique())"
   ]
  },
  {
   "cell_type": "code",
   "execution_count": 5,
   "id": "da4c4bfc",
   "metadata": {},
   "outputs": [],
   "source": [
    "relevant_employment_status = ['Employed full-time','Employed part-time','Independent contractor, freelancer, or self-employed']"
   ]
  },
  {
   "cell_type": "code",
   "execution_count": 6,
   "id": "532410a6",
   "metadata": {},
   "outputs": [
    {
     "name": "stdout",
     "output_type": "stream",
     "text": [
      "The proportion of working professional developers in the dataset is: 0.6873832503113325\n"
     ]
    }
   ],
   "source": [
    "# Limit the dataset to the answers from professional developers that are employed\n",
    "dev_subset = dev_subset[(dev_subset['Professional'] == 'Professional developer') & (dev_subset['EmploymentStatus'].isin(relevant_employment_status))]\n",
    "\n",
    "#Drop the Professional column\n",
    "dev_subset = dev_subset.drop(columns=['Professional'])\n",
    "\n",
    "#check how much of the data are within this group of respondents\n",
    "print('The proportion of working professional developers in the dataset is:',(len(dev_subset)/len(df)))"
   ]
  },
  {
   "cell_type": "markdown",
   "id": "17e04afb",
   "metadata": {},
   "source": [
    "The subset I choose, contains 69% of all respondents. I think this in big enough to get good results "
   ]
  },
  {
   "cell_type": "markdown",
   "id": "92454237",
   "metadata": {},
   "source": [
    "## Step 3: Understand the Data\n"
   ]
  },
  {
   "cell_type": "code",
   "execution_count": 7,
   "id": "8184710f",
   "metadata": {},
   "outputs": [
    {
     "name": "stdout",
     "output_type": "stream",
     "text": [
      "<class 'pandas.core.frame.DataFrame'>\n",
      "Int64Index: 35326 entries, 2 to 51390\n",
      "Data columns (total 15 columns):\n",
      " #   Column              Non-Null Count  Dtype  \n",
      "---  ------              --------------  -----  \n",
      " 0   JobSatisfaction     34955 non-null  float64\n",
      " 1   Country             35326 non-null  object \n",
      " 2   HomeRemote          35281 non-null  object \n",
      " 3   CompanySize         31595 non-null  object \n",
      " 4   CompanyType         31528 non-null  object \n",
      " 5   DeveloperType       35317 non-null  object \n",
      " 6   YearsCodedJob       35051 non-null  object \n",
      " 7   Salary              12891 non-null  float64\n",
      " 8   EmploymentStatus    35326 non-null  object \n",
      " 9   ProgramHobby        35326 non-null  object \n",
      " 10  CareerSatisfaction  35023 non-null  float64\n",
      " 11  LastNewJob          23184 non-null  object \n",
      " 12  WorkPayCare         22102 non-null  object \n",
      " 13  KinshipDevelopers   21916 non-null  object \n",
      " 14  Gender              25599 non-null  object \n",
      "dtypes: float64(3), object(12)\n",
      "memory usage: 4.3+ MB\n",
      "None\n"
     ]
    }
   ],
   "source": [
    "print(dev_subset.info())"
   ]
  },
  {
   "cell_type": "markdown",
   "id": "905081df",
   "metadata": {},
   "source": [
    "The Columns JobSatisfaction, Salary and CareerSatiafaction are numerical columns. All other features are cathegorical. \n",
    "\n",
    "Also The Salary column has a lot of missing values that needs imputing. "
   ]
  },
  {
   "cell_type": "code",
   "execution_count": 8,
   "id": "8eaa6b93",
   "metadata": {},
   "outputs": [
    {
     "data": {
      "text/html": [
       "<div>\n",
       "<style scoped>\n",
       "    .dataframe tbody tr th:only-of-type {\n",
       "        vertical-align: middle;\n",
       "    }\n",
       "\n",
       "    .dataframe tbody tr th {\n",
       "        vertical-align: top;\n",
       "    }\n",
       "\n",
       "    .dataframe thead th {\n",
       "        text-align: right;\n",
       "    }\n",
       "</style>\n",
       "<table border=\"1\" class=\"dataframe\">\n",
       "  <thead>\n",
       "    <tr style=\"text-align: right;\">\n",
       "      <th></th>\n",
       "      <th>JobSatisfaction</th>\n",
       "      <th>Salary</th>\n",
       "      <th>CareerSatisfaction</th>\n",
       "    </tr>\n",
       "  </thead>\n",
       "  <tbody>\n",
       "    <tr>\n",
       "      <th>count</th>\n",
       "      <td>34955.000000</td>\n",
       "      <td>12891.000000</td>\n",
       "      <td>35023.000000</td>\n",
       "    </tr>\n",
       "    <tr>\n",
       "      <th>mean</th>\n",
       "      <td>7.009612</td>\n",
       "      <td>56298.480641</td>\n",
       "      <td>7.447106</td>\n",
       "    </tr>\n",
       "    <tr>\n",
       "      <th>std</th>\n",
       "      <td>2.141212</td>\n",
       "      <td>39880.905277</td>\n",
       "      <td>1.824708</td>\n",
       "    </tr>\n",
       "    <tr>\n",
       "      <th>min</th>\n",
       "      <td>0.000000</td>\n",
       "      <td>0.000000</td>\n",
       "      <td>0.000000</td>\n",
       "    </tr>\n",
       "    <tr>\n",
       "      <th>25%</th>\n",
       "      <td>6.000000</td>\n",
       "      <td>26440.371839</td>\n",
       "      <td>7.000000</td>\n",
       "    </tr>\n",
       "    <tr>\n",
       "      <th>50%</th>\n",
       "      <td>7.000000</td>\n",
       "      <td>50000.000000</td>\n",
       "      <td>8.000000</td>\n",
       "    </tr>\n",
       "    <tr>\n",
       "      <th>75%</th>\n",
       "      <td>8.000000</td>\n",
       "      <td>80000.000000</td>\n",
       "      <td>9.000000</td>\n",
       "    </tr>\n",
       "    <tr>\n",
       "      <th>max</th>\n",
       "      <td>10.000000</td>\n",
       "      <td>197000.000000</td>\n",
       "      <td>10.000000</td>\n",
       "    </tr>\n",
       "  </tbody>\n",
       "</table>\n",
       "</div>"
      ],
      "text/plain": [
       "       JobSatisfaction         Salary  CareerSatisfaction\n",
       "count     34955.000000   12891.000000        35023.000000\n",
       "mean          7.009612   56298.480641            7.447106\n",
       "std           2.141212   39880.905277            1.824708\n",
       "min           0.000000       0.000000            0.000000\n",
       "25%           6.000000   26440.371839            7.000000\n",
       "50%           7.000000   50000.000000            8.000000\n",
       "75%           8.000000   80000.000000            9.000000\n",
       "max          10.000000  197000.000000           10.000000"
      ]
     },
     "execution_count": 8,
     "metadata": {},
     "output_type": "execute_result"
    }
   ],
   "source": [
    "# take a closer look at numerical features\n",
    "dev_subset.describe()"
   ]
  },
  {
   "cell_type": "code",
   "execution_count": 128,
   "id": "4f0a2886",
   "metadata": {},
   "outputs": [
    {
     "data": {
      "text/plain": [
       "Text(0, 0.5, 'count')"
      ]
     },
     "execution_count": 128,
     "metadata": {},
     "output_type": "execute_result"
    },
    {
     "data": {
      "image/png": "[encoded data removed]",
      "text/plain": [
       "<Figure size 432x288 with 1 Axes>"
      ]
     },
     "metadata": {
      "needs_background": "light"
     },
     "output_type": "display_data"
    }
   ],
   "source": [
    "# plot data\n",
    "plt.plot()\n",
    "plt.hist(dev_subset['JobSatisfaction'],bins=11)\n",
    "plt.title('Job Satisfaction of professional developers')\n",
    "plt.xlabel('JobSatisfaction')\n",
    "plt.ylabel('count')"
   ]
  },
  {
   "cell_type": "code",
   "execution_count": 10,
   "id": "ceb00190",
   "metadata": {},
   "outputs": [
    {
     "data": {
      "text/plain": [
       "Text(0, 0.5, 'count')"
      ]
     },
     "execution_count": 10,
     "metadata": {},
     "output_type": "execute_result"
    },
    {
     "data": {
      "image/png": "[encoded data removed]",
      "text/plain": [
       "<Figure size 432x288 with 1 Axes>"
      ]
     },
     "metadata": {
      "needs_background": "light"
     },
     "output_type": "display_data"
    }
   ],
   "source": [
    "# plot data\n",
    "plt.plot()\n",
    "plt.hist(dev_subset['Salary'],bins=50)\n",
    "plt.title('Salary histogram')\n",
    "plt.xlabel('Salary')\n",
    "plt.ylabel('count')"
   ]
  },
  {
   "cell_type": "code",
   "execution_count": 11,
   "id": "ce8c95b8",
   "metadata": {},
   "outputs": [
    {
     "data": {
      "text/plain": [
       "<AxesSubplot:xlabel='JobSatisfaction', ylabel='Salary'>"
      ]
     },
     "execution_count": 11,
     "metadata": {},
     "output_type": "execute_result"
    },
    {
     "data": {
      "image/png": "[encoded data removed]",
      "text/plain": [
       "<Figure size 432x288 with 1 Axes>"
      ]
     },
     "metadata": {
      "needs_background": "light"
     },
     "output_type": "display_data"
    }
   ],
   "source": [
    "# plot data\n",
    "sns.violinplot(data=dev_subset, x=\"JobSatisfaction\", y=\"Salary\")"
   ]
  },
  {
   "cell_type": "code",
   "execution_count": 12,
   "id": "95c9c719",
   "metadata": {},
   "outputs": [
    {
     "data": {
      "text/plain": [
       "<seaborn.axisgrid.FacetGrid at 0x26459320ee0>"
      ]
     },
     "execution_count": 12,
     "metadata": {},
     "output_type": "execute_result"
    },
    {
     "data": {
      "image/png": "[encoded data removed]",
      "text/plain": [
       "<Figure size 648x216 with 3 Axes>"
      ]
     },
     "metadata": {
      "needs_background": "light"
     },
     "output_type": "display_data"
    }
   ],
   "source": [
    "g = sns.FacetGrid(dev_subset, col=\"EmploymentStatus\")\n",
    "g.map(sns.histplot, \"Salary\")"
   ]
  },
  {
   "cell_type": "markdown",
   "id": "7dd82c5f",
   "metadata": {},
   "source": [
    "This plot shows, that by dropping the rows with the missing salary information would lead to eliminating all the self-employed respondends form the dataset althought we do not even know jet, how much Salary contributes to the Job satisfaction. \n",
    "\n",
    "When we compare the salay plots for the Full-time and half-time employed respondends, we see, that using the mean is also not a good choice."
   ]
  },
  {
   "cell_type": "markdown",
   "id": "f7755708",
   "metadata": {},
   "source": [
    "## Step 4: Prepare the Data"
   ]
  },
  {
   "cell_type": "markdown",
   "id": "5f214c6c",
   "metadata": {},
   "source": [
    "We need to clean the data (=handling missing values), split in X and y and split in a train set and a test set. As I will need to do this multiple times, I will prepare functions for all the relevant steps"
   ]
  },
  {
   "cell_type": "code",
   "execution_count": 13,
   "id": "8511f08d",
   "metadata": {},
   "outputs": [],
   "source": [
    "def GetDummyColumns(X): \n",
    "\n",
    "    # Dummy columns for the categorical variables\n",
    "    cat_vars = X.select_dtypes(include=['object']).copy().columns\n",
    "    \n",
    "    X_dummy = X[cat_vars]\n",
    "    \n",
    "    for var in  cat_vars:\n",
    "        \n",
    "        dummy_df = pd.get_dummies(X[var], prefix=var, prefix_sep='_', drop_first=True)\n",
    "        \n",
    "        X_dummy = pd.concat([X_dummy.drop(var, axis=1), dummy_df], axis=1)\n",
    "    \n",
    "    return X_dummy\n",
    "\n",
    "def GetReducedFeatureList(X): \n",
    "    # This function returns a list of all features, where the feature is present in over 0,1 % of the dataset\n",
    "    # The aim is to limit the dataset to only relevant features\n",
    "    # this method applies only for dummy columns\n",
    "    \n",
    "    #get the mean of each column\n",
    "    X_perc=X.mean()\n",
    "\n",
    "    reduced_feature_list = X_perc[X_perc >= 0.001].index\n",
    "    \n",
    "    return(reduced_feature_list)\n",
    "\n",
    "def ImputeNumericalValues(X): \n",
    "    # Fill numeric columns with the mean\n",
    "    num_vars = X.select_dtypes(include=['float', 'int']).columns\n",
    "    \n",
    "    X_num = X[num_vars]\n",
    "    \n",
    "    for col in num_vars:\n",
    "        \n",
    "            X_num[col].fillna((X_num[col].mean()), inplace=True)\n",
    "    \n",
    "    return(X_num)\n",
    "\n",
    "def clean_data(X,reduce_features = True): \n",
    "    # This function imputes numeric columns in the dd with the mean and introduces dummy columns for categorical columns\n",
    "        \n",
    "    X_dummy = GetDummyColumns(X)\n",
    "    \n",
    "    if reduce_features:\n",
    "        \n",
    "        reduced_feature_list = GetReducedFeatureList(X_dummy)\n",
    "        \n",
    "        X_dummy = X_dummy[reduced_feature_list]\n",
    "    \n",
    "    X_num = ImputeNumericalValues(X)\n",
    "    \n",
    "    X_new = pd.concat([X_num,X_dummy],axis=1)\n",
    "    \n",
    "    return X_new\n",
    "\n",
    "def GetLinearRegressionInput(df, y_col): \n",
    "    \n",
    "    df_new = df.dropna(subset=[y_col])\n",
    "    \n",
    "    X = clean_data(df_new.drop(columns=y_col)) \n",
    "    \n",
    "    y = df_new[y_col]\n",
    "    \n",
    "    return(X,y)"
   ]
  },
  {
   "cell_type": "markdown",
   "id": "daa63b62",
   "metadata": {},
   "source": [
    "### How do we impute the missing values in the salary colum\n",
    "\n",
    "I want to try out two different ways of handling the missing values in the salary column. therefore, I will treat the salary column differently, than the other numerical columns. I will create 3 versions of the dev_subset. In each version, a different imputing strategy for the salary column is used. \n",
    "\n",
    "I will use the following strategies: \n",
    "\n",
    "1) Droping the rows with missing values\n",
    "2) Imputing with the median of the dataset\n",
    "3) using a linear model to predict the missing Salary columns and then use this model to fill the columns"
   ]
  },
  {
   "cell_type": "markdown",
   "id": "de23076e",
   "metadata": {},
   "source": [
    "#### Version 1 \n",
    "\n",
    "Droping the rows with missing Salary"
   ]
  },
  {
   "cell_type": "code",
   "execution_count": 14,
   "id": "c6b3f525",
   "metadata": {},
   "outputs": [
    {
     "name": "stdout",
     "output_type": "stream",
     "text": [
      "<class 'pandas.core.frame.DataFrame'>\n",
      "Int64Index: 12891 entries, 2 to 51390\n",
      "Data columns (total 15 columns):\n",
      " #   Column              Non-Null Count  Dtype  \n",
      "---  ------              --------------  -----  \n",
      " 0   JobSatisfaction     12852 non-null  float64\n",
      " 1   Country             12891 non-null  object \n",
      " 2   HomeRemote          12883 non-null  object \n",
      " 3   CompanySize         12880 non-null  object \n",
      " 4   CompanyType         12868 non-null  object \n",
      " 5   DeveloperType       12889 non-null  object \n",
      " 6   YearsCodedJob       12834 non-null  object \n",
      " 7   Salary              12891 non-null  float64\n",
      " 8   EmploymentStatus    12891 non-null  object \n",
      " 9   ProgramHobby        12891 non-null  object \n",
      " 10  CareerSatisfaction  12861 non-null  float64\n",
      " 11  LastNewJob          9078 non-null   object \n",
      " 12  WorkPayCare         8874 non-null   object \n",
      " 13  KinshipDevelopers   8817 non-null   object \n",
      " 14  Gender              11709 non-null  object \n",
      "dtypes: float64(3), object(12)\n",
      "memory usage: 1.6+ MB\n"
     ]
    }
   ],
   "source": [
    "dev_subset_1 = dev_subset.dropna(subset=['Salary'])\n",
    "\n",
    "dev_subset_1.info()"
   ]
  },
  {
   "cell_type": "code",
   "execution_count": 15,
   "id": "740f6079",
   "metadata": {},
   "outputs": [
    {
     "name": "stdout",
     "output_type": "stream",
     "text": [
      "True\n"
     ]
    },
    {
     "name": "stderr",
     "output_type": "stream",
     "text": [
      "C:\\Anaconda3\\lib\\site-packages\\pandas\\core\\generic.py:6383: SettingWithCopyWarning: \n",
      "A value is trying to be set on a copy of a slice from a DataFrame\n",
      "\n",
      "See the caveats in the documentation: https://pandas.pydata.org/pandas-docs/stable/user_guide/indexing.html#returning-a-view-versus-a-copy\n",
      "  return self._update_inplace(result)\n"
     ]
    },
    {
     "data": {
      "text/plain": [
       "(12852, 219)"
      ]
     },
     "execution_count": 15,
     "metadata": {},
     "output_type": "execute_result"
    }
   ],
   "source": [
    "#clean the data of dev_subset_1\n",
    "X_1,y_1 = GetLinearRegressionInput(dev_subset_1, y_col='JobSatisfaction')\n",
    "\n",
    "print('Salary' in X_1.columns)\n",
    "\n",
    "X_1.shape"
   ]
  },
  {
   "cell_type": "markdown",
   "id": "e6129b17",
   "metadata": {},
   "source": [
    "#### Version 2\n",
    "\n",
    "Imputing the missing Salary values with the mean. "
   ]
  },
  {
   "cell_type": "code",
   "execution_count": 16,
   "id": "39ccb0dd",
   "metadata": {},
   "outputs": [
    {
     "name": "stdout",
     "output_type": "stream",
     "text": [
      "<class 'pandas.core.frame.DataFrame'>\n",
      "Int64Index: 35326 entries, 2 to 51390\n",
      "Data columns (total 15 columns):\n",
      " #   Column              Non-Null Count  Dtype  \n",
      "---  ------              --------------  -----  \n",
      " 0   JobSatisfaction     34955 non-null  float64\n",
      " 1   Country             35326 non-null  object \n",
      " 2   HomeRemote          35281 non-null  object \n",
      " 3   CompanySize         31595 non-null  object \n",
      " 4   CompanyType         31528 non-null  object \n",
      " 5   DeveloperType       35317 non-null  object \n",
      " 6   YearsCodedJob       35051 non-null  object \n",
      " 7   Salary              35326 non-null  float64\n",
      " 8   EmploymentStatus    35326 non-null  object \n",
      " 9   ProgramHobby        35326 non-null  object \n",
      " 10  CareerSatisfaction  35023 non-null  float64\n",
      " 11  LastNewJob          23184 non-null  object \n",
      " 12  WorkPayCare         22102 non-null  object \n",
      " 13  KinshipDevelopers   21916 non-null  object \n",
      " 14  Gender              25599 non-null  object \n",
      "dtypes: float64(3), object(12)\n",
      "memory usage: 5.3+ MB\n"
     ]
    }
   ],
   "source": [
    "# preparing a subset where all missing salary information are filled with the median salary \n",
    "dev_subset_2 = dev_subset.copy()\n",
    "\n",
    "dev_subset_2['Salary'].fillna(dev_subset_2['Salary'].median(), inplace=True)\n",
    "\n",
    "dev_subset_2.info()"
   ]
  },
  {
   "cell_type": "code",
   "execution_count": 17,
   "id": "ee533327",
   "metadata": {},
   "outputs": [
    {
     "name": "stdout",
     "output_type": "stream",
     "text": [
      "True\n"
     ]
    },
    {
     "data": {
      "text/plain": [
       "(34955, 235)"
      ]
     },
     "execution_count": 17,
     "metadata": {},
     "output_type": "execute_result"
    }
   ],
   "source": [
    "#clean the data of dev_subset_1\n",
    "X_2,y_2 = GetLinearRegressionInput(dev_subset_2, y_col='JobSatisfaction')\n",
    "\n",
    "print('Salary' in X_2.columns)\n",
    "\n",
    "X_2.shape"
   ]
  },
  {
   "cell_type": "markdown",
   "id": "aafdf3fc",
   "metadata": {},
   "source": [
    "#### Version 3\n",
    "\n",
    "Use a Linear regression model to predict the missing values in the salary column"
   ]
  },
  {
   "cell_type": "code",
   "execution_count": 87,
   "id": "166e0708",
   "metadata": {},
   "outputs": [],
   "source": [
    "def perform_linear_regression(X,y,normal): \n",
    "    \n",
    "    #Split into train and test\n",
    "    X_train, X_test, y_train, y_test = train_test_split(X, y, test_size=.3, random_state=42)\n",
    "    \n",
    "    lm_model = LinearRegression(normalize=normal) # Instantiate\n",
    "    lm_model.fit(X_train, y_train) #Fit\n",
    "\n",
    "    #Predict using your model\n",
    "    y_test_preds = lm_model.predict(X_test)\n",
    "    y_train_preds = lm_model.predict(X_train)\n",
    "\n",
    "    #Score using your model\n",
    "    test_score = r2_score(y_test, y_test_preds)\n",
    "    train_score = r2_score(y_train, y_train_preds)\n",
    "    \n",
    "    return test_score, train_score, lm_model, X_train, X_test, y_train, y_test\n",
    "\n"
   ]
  },
  {
   "cell_type": "code",
   "execution_count": 88,
   "id": "cd041319",
   "metadata": {},
   "outputs": [
    {
     "name": "stdout",
     "output_type": "stream",
     "text": [
      "(35326, 14)\n",
      "test score: 0.7203227057227752\n",
      "train score: 0.72998119364112\n",
      "(9023, 218)\n"
     ]
    },
    {
     "name": "stderr",
     "output_type": "stream",
     "text": [
      "C:\\Anaconda3\\lib\\site-packages\\pandas\\core\\generic.py:6383: SettingWithCopyWarning: \n",
      "A value is trying to be set on a copy of a slice from a DataFrame\n",
      "\n",
      "See the caveats in the documentation: https://pandas.pydata.org/pandas-docs/stable/user_guide/indexing.html#returning-a-view-versus-a-copy\n",
      "  return self._update_inplace(result)\n"
     ]
    }
   ],
   "source": [
    "# To predict the Salary column, we do not wan to use JobSatisfaction column\n",
    "subset_fit_salary = dev_subset.drop(columns='JobSatisfaction')\n",
    "print(subset_fit_salary.shape)\n",
    "\n",
    "missing_salary_mask = subset_fit_salary['Salary'].notna()\n",
    "\n",
    "# train the linear model on the subset with salaries\n",
    "\n",
    "X_reg, y_reg = GetLinearRegressionInput(subset_fit_salary,y_col='Salary')\n",
    "\n",
    "Res = perform_linear_regression(X_reg, y_reg,normal=False)\n",
    "\n",
    "print('test score:',Res[0])\n",
    "print('train score:',Res[1])\n",
    "\n",
    "print(Res[3].shape)\n",
    "\n",
    "lm_model = Res[2]"
   ]
  },
  {
   "cell_type": "code",
   "execution_count": 89,
   "id": "6cbcebb4",
   "metadata": {},
   "outputs": [
    {
     "data": {
      "text/html": [
       "<div>\n",
       "<style scoped>\n",
       "    .dataframe tbody tr th:only-of-type {\n",
       "        vertical-align: middle;\n",
       "    }\n",
       "\n",
       "    .dataframe tbody tr th {\n",
       "        vertical-align: top;\n",
       "    }\n",
       "\n",
       "    .dataframe thead th {\n",
       "        text-align: right;\n",
       "    }\n",
       "</style>\n",
       "<table border=\"1\" class=\"dataframe\">\n",
       "  <thead>\n",
       "    <tr style=\"text-align: right;\">\n",
       "      <th></th>\n",
       "      <th>index</th>\n",
       "      <th>0</th>\n",
       "    </tr>\n",
       "  </thead>\n",
       "  <tbody>\n",
       "    <tr>\n",
       "      <th>0</th>\n",
       "      <td>Country_United States</td>\n",
       "      <td>55424.723048</td>\n",
       "    </tr>\n",
       "    <tr>\n",
       "      <th>1</th>\n",
       "      <td>Country_Switzerland</td>\n",
       "      <td>54619.732160</td>\n",
       "    </tr>\n",
       "    <tr>\n",
       "      <th>2</th>\n",
       "      <td>YearsCodedJob_20 or more years</td>\n",
       "      <td>38969.853260</td>\n",
       "    </tr>\n",
       "    <tr>\n",
       "      <th>3</th>\n",
       "      <td>YearsCodedJob_18 to 19 years</td>\n",
       "      <td>35910.270030</td>\n",
       "    </tr>\n",
       "    <tr>\n",
       "      <th>4</th>\n",
       "      <td>YearsCodedJob_19 to 20 years</td>\n",
       "      <td>35622.235639</td>\n",
       "    </tr>\n",
       "    <tr>\n",
       "      <th>...</th>\n",
       "      <td>...</td>\n",
       "      <td>...</td>\n",
       "    </tr>\n",
       "    <tr>\n",
       "      <th>213</th>\n",
       "      <td>Country_Philippines</td>\n",
       "      <td>-17301.643818</td>\n",
       "    </tr>\n",
       "    <tr>\n",
       "      <th>214</th>\n",
       "      <td>Country_India</td>\n",
       "      <td>-17915.398078</td>\n",
       "    </tr>\n",
       "    <tr>\n",
       "      <th>215</th>\n",
       "      <td>Country_Russian Federation</td>\n",
       "      <td>-18421.779074</td>\n",
       "    </tr>\n",
       "    <tr>\n",
       "      <th>216</th>\n",
       "      <td>Country_Pakistan</td>\n",
       "      <td>-20366.322569</td>\n",
       "    </tr>\n",
       "    <tr>\n",
       "      <th>217</th>\n",
       "      <td>Country_Indonesia</td>\n",
       "      <td>-23601.581246</td>\n",
       "    </tr>\n",
       "  </tbody>\n",
       "</table>\n",
       "<p>218 rows × 2 columns</p>\n",
       "</div>"
      ],
      "text/plain": [
       "                              index             0\n",
       "0             Country_United States  55424.723048\n",
       "1               Country_Switzerland  54619.732160\n",
       "2    YearsCodedJob_20 or more years  38969.853260\n",
       "3      YearsCodedJob_18 to 19 years  35910.270030\n",
       "4      YearsCodedJob_19 to 20 years  35622.235639\n",
       "..                              ...           ...\n",
       "213             Country_Philippines -17301.643818\n",
       "214                   Country_India -17915.398078\n",
       "215      Country_Russian Federation -18421.779074\n",
       "216                Country_Pakistan -20366.322569\n",
       "217               Country_Indonesia -23601.581246\n",
       "\n",
       "[218 rows x 2 columns]"
      ]
     },
     "execution_count": 89,
     "metadata": {},
     "output_type": "execute_result"
    }
   ],
   "source": [
    "#coefficient dataframe\n",
    "coeffs = pd.Series(Res[2].coef_, index=X_reg.columns).sort_values(ascending = False)\n",
    "coeffs= coeffs.reset_index()\n",
    "\n",
    "coeffs"
   ]
  },
  {
   "cell_type": "code",
   "execution_count": 90,
   "id": "68a22974",
   "metadata": {},
   "outputs": [
    {
     "name": "stderr",
     "output_type": "stream",
     "text": [
      "C:\\Anaconda3\\lib\\site-packages\\pandas\\core\\generic.py:6383: SettingWithCopyWarning: \n",
      "A value is trying to be set on a copy of a slice from a DataFrame\n",
      "\n",
      "See the caveats in the documentation: https://pandas.pydata.org/pandas-docs/stable/user_guide/indexing.html#returning-a-view-versus-a-copy\n",
      "  return self._update_inplace(result)\n"
     ]
    }
   ],
   "source": [
    "# get X that matches the subset with missing salary to fit salary\n",
    "X_pred = clean_data(subset_fit_salary,reduce_features=False)\n",
    "\n",
    "X_pred = X_pred[X_reg.columns][~missing_salary_mask]\n",
    "\n",
    "y_predict = lm_model.predict(X_pred)"
   ]
  },
  {
   "cell_type": "code",
   "execution_count": 92,
   "id": "78f017b7",
   "metadata": {},
   "outputs": [
    {
     "name": "stdout",
     "output_type": "stream",
     "text": [
      "<class 'pandas.core.frame.DataFrame'>\n",
      "Int64Index: 35326 entries, 2 to 51389\n",
      "Data columns (total 15 columns):\n",
      " #   Column              Non-Null Count  Dtype  \n",
      "---  ------              --------------  -----  \n",
      " 0   JobSatisfaction     34955 non-null  float64\n",
      " 1   Country             35326 non-null  object \n",
      " 2   HomeRemote          35281 non-null  object \n",
      " 3   CompanySize         31595 non-null  object \n",
      " 4   CompanyType         31528 non-null  object \n",
      " 5   DeveloperType       35317 non-null  object \n",
      " 6   YearsCodedJob       35051 non-null  object \n",
      " 7   Salary              35326 non-null  float64\n",
      " 8   EmploymentStatus    35326 non-null  object \n",
      " 9   ProgramHobby        35326 non-null  object \n",
      " 10  CareerSatisfaction  35023 non-null  float64\n",
      " 11  LastNewJob          23184 non-null  object \n",
      " 12  WorkPayCare         22102 non-null  object \n",
      " 13  KinshipDevelopers   21916 non-null  object \n",
      " 14  Gender              25599 non-null  object \n",
      "dtypes: float64(3), object(12)\n",
      "memory usage: 4.3+ MB\n"
     ]
    }
   ],
   "source": [
    "# fill the misssing Salaries with the predicted one\n",
    "\n",
    "dev_subset_3_w_salary = dev_subset[missing_salary_mask].copy()\n",
    "\n",
    "dev_subset_3_wo_salary = dev_subset[~missing_salary_mask].copy()\n",
    "\n",
    "dev_subset_3_wo_salary.loc[:,'Salary'] =y_predict\n",
    "\n",
    "dev_subset_3 = pd.concat([dev_subset_3_w_salary,dev_subset_3_wo_salary])\n",
    "\n",
    "dev_subset_3.info()"
   ]
  },
  {
   "cell_type": "code",
   "execution_count": 93,
   "id": "58745db3",
   "metadata": {},
   "outputs": [
    {
     "data": {
      "text/plain": [
       "<AxesSubplot:>"
      ]
     },
     "execution_count": 93,
     "metadata": {},
     "output_type": "execute_result"
    },
    {
     "data": {
      "image/png": "[encoded data removed]",
      "text/plain": [
       "<Figure size 432x288 with 1 Axes>"
      ]
     },
     "metadata": {
      "needs_background": "light"
     },
     "output_type": "display_data"
    }
   ],
   "source": [
    "dev_subset_3['Salary'].hist(bins=50)\n",
    "\n",
    "#how many Salaries were predicted below 0\n",
    "#(y_predict <= 0).sum()"
   ]
  },
  {
   "cell_type": "markdown",
   "id": "f81841f3",
   "metadata": {},
   "source": [
    "We can see, that the regression returned negative Salaries. I will replace them with a Salay of 0 as the original Dataset also contains Salaries of 0"
   ]
  },
  {
   "cell_type": "code",
   "execution_count": 94,
   "id": "92a0af45",
   "metadata": {},
   "outputs": [
    {
     "data": {
      "text/plain": [
       "0.0"
      ]
     },
     "execution_count": 94,
     "metadata": {},
     "output_type": "execute_result"
    }
   ],
   "source": [
    "dev_subset['Salary'].min()"
   ]
  },
  {
   "cell_type": "code",
   "execution_count": 95,
   "id": "259c64eb",
   "metadata": {},
   "outputs": [
    {
     "name": "stderr",
     "output_type": "stream",
     "text": [
      "<ipython-input-95-348fa4654d56>:1: SettingWithCopyWarning: \n",
      "A value is trying to be set on a copy of a slice from a DataFrame\n",
      "\n",
      "See the caveats in the documentation: https://pandas.pydata.org/pandas-docs/stable/user_guide/indexing.html#returning-a-view-versus-a-copy\n",
      "  dev_subset_3['Salary'][dev_subset_3['Salary'] < 0] = 0.0\n"
     ]
    }
   ],
   "source": [
    "dev_subset_3['Salary'][dev_subset_3['Salary'] < 0] = 0.0 "
   ]
  },
  {
   "cell_type": "code",
   "execution_count": 96,
   "id": "7d005103",
   "metadata": {},
   "outputs": [
    {
     "data": {
      "text/plain": [
       "<AxesSubplot:>"
      ]
     },
     "execution_count": 96,
     "metadata": {},
     "output_type": "execute_result"
    },
    {
     "data": {
      "image/png": "[encoded data removed]",
      "text/plain": [
       "<Figure size 432x288 with 1 Axes>"
      ]
     },
     "metadata": {
      "needs_background": "light"
     },
     "output_type": "display_data"
    }
   ],
   "source": [
    "dev_subset_3['Salary'].hist(bins=50)"
   ]
  },
  {
   "cell_type": "code",
   "execution_count": 97,
   "id": "9b96263d",
   "metadata": {},
   "outputs": [
    {
     "name": "stdout",
     "output_type": "stream",
     "text": [
      "<class 'pandas.core.frame.DataFrame'>\n",
      "Int64Index: 35326 entries, 2 to 51389\n",
      "Data columns (total 15 columns):\n",
      " #   Column              Non-Null Count  Dtype  \n",
      "---  ------              --------------  -----  \n",
      " 0   JobSatisfaction     34955 non-null  float64\n",
      " 1   Country             35326 non-null  object \n",
      " 2   HomeRemote          35281 non-null  object \n",
      " 3   CompanySize         31595 non-null  object \n",
      " 4   CompanyType         31528 non-null  object \n",
      " 5   DeveloperType       35317 non-null  object \n",
      " 6   YearsCodedJob       35051 non-null  object \n",
      " 7   Salary              35326 non-null  float64\n",
      " 8   EmploymentStatus    35326 non-null  object \n",
      " 9   ProgramHobby        35326 non-null  object \n",
      " 10  CareerSatisfaction  35023 non-null  float64\n",
      " 11  LastNewJob          23184 non-null  object \n",
      " 12  WorkPayCare         22102 non-null  object \n",
      " 13  KinshipDevelopers   21916 non-null  object \n",
      " 14  Gender              25599 non-null  object \n",
      "dtypes: float64(3), object(12)\n",
      "memory usage: 4.3+ MB\n"
     ]
    }
   ],
   "source": [
    "dev_subset_3.info()"
   ]
  },
  {
   "cell_type": "markdown",
   "id": "12d2330f",
   "metadata": {},
   "source": [
    "Salary histogram looks normal. We can use this for our dataset 3"
   ]
  },
  {
   "cell_type": "code",
   "execution_count": 98,
   "id": "1cb65188",
   "metadata": {},
   "outputs": [
    {
     "name": "stdout",
     "output_type": "stream",
     "text": [
      "True\n"
     ]
    },
    {
     "name": "stderr",
     "output_type": "stream",
     "text": [
      "C:\\Anaconda3\\lib\\site-packages\\pandas\\core\\generic.py:6383: SettingWithCopyWarning: \n",
      "A value is trying to be set on a copy of a slice from a DataFrame\n",
      "\n",
      "See the caveats in the documentation: https://pandas.pydata.org/pandas-docs/stable/user_guide/indexing.html#returning-a-view-versus-a-copy\n",
      "  return self._update_inplace(result)\n"
     ]
    },
    {
     "data": {
      "text/plain": [
       "(34955, 235)"
      ]
     },
     "execution_count": 98,
     "metadata": {},
     "output_type": "execute_result"
    }
   ],
   "source": [
    "#clean the data of dev_subset_3\n",
    "X_3,y_3 = GetLinearRegressionInput(dev_subset_3, y_col='JobSatisfaction')\n",
    "\n",
    "print('Salary' in X_3.columns)\n",
    "\n",
    "X_3.shape"
   ]
  },
  {
   "cell_type": "markdown",
   "id": "922fb3ba",
   "metadata": {},
   "source": [
    "## Step 5: Model the data"
   ]
  },
  {
   "cell_type": "markdown",
   "id": "91e5479a",
   "metadata": {},
   "source": [
    "### Linear regression on dev_subset_1"
   ]
  },
  {
   "cell_type": "code",
   "execution_count": 28,
   "id": "7470e1a7",
   "metadata": {},
   "outputs": [
    {
     "name": "stdout",
     "output_type": "stream",
     "text": [
      "test score: 0.3728377737269323\n",
      "train score: 0.42376536838097945\n"
     ]
    }
   ],
   "source": [
    "#perform linear regression\n",
    "Res_1 = perform_linear_regression(X_1, y_1,normal=False)\n",
    "\n",
    "print('test score:',Res_1[0])\n",
    "print('train score:',Res_1[1])"
   ]
  },
  {
   "cell_type": "code",
   "execution_count": 29,
   "id": "2f310b5e",
   "metadata": {},
   "outputs": [
    {
     "name": "stdout",
     "output_type": "stream",
     "text": [
      "121/219\n",
      "['Salary' 1.995864032076433e-06]\n"
     ]
    }
   ],
   "source": [
    "#coefficient dataframe\n",
    "coeffs_1 = pd.Series(Res_1[2].coef_, index=X_1.columns).sort_values(ascending = False)\n",
    "coeffs_1= coeffs_1.reset_index()\n",
    "salary_index = coeffs_1[coeffs_1['index'] =='Salary'].index[0]\n",
    "salary_coeff = coeffs_1[coeffs_1['index'] =='Salary'].values[0]\n",
    "\n",
    "print(f'{salary_index}/{len(coeffs_1)}')\n",
    "print(salary_coeff)"
   ]
  },
  {
   "cell_type": "markdown",
   "id": "0b7c2ae7",
   "metadata": {},
   "source": [
    "### Linear Regression on dev_subset_2"
   ]
  },
  {
   "cell_type": "code",
   "execution_count": 30,
   "id": "deb2d22c",
   "metadata": {},
   "outputs": [
    {
     "name": "stdout",
     "output_type": "stream",
     "text": [
      "test score: 0.4075599375504799\n",
      "train score: 0.42863542477582917\n"
     ]
    }
   ],
   "source": [
    "#perform linear regression\n",
    "Res_2 = perform_linear_regression(X_2, y_2,normal=False)\n",
    "\n",
    "print('test score:',Res_2[0])\n",
    "print('train score:',Res_2[1])"
   ]
  },
  {
   "cell_type": "code",
   "execution_count": 31,
   "id": "aefe2617",
   "metadata": {},
   "outputs": [
    {
     "name": "stdout",
     "output_type": "stream",
     "text": [
      "128/235\n",
      "['Salary' 3.9714351185528225e-07]\n"
     ]
    }
   ],
   "source": [
    "#coefficient dataframe\n",
    "coeffs_2 = pd.Series(Res_2[2].coef_, index=X_2.columns).sort_values(ascending = False)\n",
    "coeffs_2= coeffs_2.reset_index()\n",
    "salary_index = coeffs_2[coeffs_2['index'] =='Salary'].index[0]\n",
    "salary_coeff = coeffs_2[coeffs_2['index'] =='Salary'].values[0]\n",
    "\n",
    "print(f'{salary_index}/{len(coeffs_2)}')\n",
    "print(salary_coeff)"
   ]
  },
  {
   "cell_type": "markdown",
   "id": "60ba8e82",
   "metadata": {},
   "source": [
    "### Linear Regression on dev_subset_3"
   ]
  },
  {
   "cell_type": "code",
   "execution_count": 99,
   "id": "dd539a95",
   "metadata": {},
   "outputs": [
    {
     "name": "stdout",
     "output_type": "stream",
     "text": [
      "test score: 0.4204808000438004\n",
      "train score: 0.42338981811516196\n"
     ]
    }
   ],
   "source": [
    "#perform linear regression\n",
    "Res_3 = perform_linear_regression(X_3, y_3,normal=False)\n",
    "\n",
    "print('test score:',Res_3[0])\n",
    "print('train score:',Res_3[1])"
   ]
  },
  {
   "cell_type": "code",
   "execution_count": 100,
   "id": "41a17929",
   "metadata": {},
   "outputs": [
    {
     "name": "stdout",
     "output_type": "stream",
     "text": [
      "                             index             0\n",
      "0            Country_United States  55424.723048\n",
      "1              Country_Switzerland  54619.732160\n",
      "2   YearsCodedJob_20 or more years  38969.853260\n",
      "3     YearsCodedJob_18 to 19 years  35910.270030\n",
      "4     YearsCodedJob_19 to 20 years  35622.235639\n",
      "5     YearsCodedJob_12 to 13 years  34910.263000\n",
      "6     YearsCodedJob_17 to 18 years  34909.011822\n",
      "7                   Country_Norway  34411.831451\n",
      "8     YearsCodedJob_15 to 16 years  32507.684028\n",
      "9     YearsCodedJob_14 to 15 years  31025.606193\n",
      "10               Country_Australia  30542.531199\n",
      "11    YearsCodedJob_16 to 17 years  29948.062531\n",
      "12    YearsCodedJob_13 to 14 years  28119.505074\n",
      "13                 Country_Ireland  26830.348584\n",
      "14    YearsCodedJob_10 to 11 years  25529.427573\n",
      "134/235\n",
      "['Salary' 7.028293275460535e-07]\n"
     ]
    }
   ],
   "source": [
    "#coefficient dataframe\n",
    "coeffs_3 = pd.Series(Res_3[2].coef_, index=X_3.columns).sort_values(ascending = False)\n",
    "coeffs_3= coeffs_3.reset_index()\n",
    "salary_index = coeffs_3[coeffs_3['index'] =='Salary'].index[0]\n",
    "salary_coeff = coeffs_3[coeffs_3['index'] =='Salary'].values[0]\n",
    "\n",
    "print(coeffs.head(15))\n",
    "\n",
    "print(f'{salary_index}/{len(coeffs_3)}')\n",
    "print(salary_coeff)"
   ]
  },
  {
   "cell_type": "markdown",
   "id": "3bfd1ff9",
   "metadata": {},
   "source": [
    "We can see, that the more work we put into imputing the missing salary values, the closer our test_score is to our train_score. So it seems to make a difference. But for all options, the salary coefficient seems to be pretty low and also very much in the back, when we sort the coefficients in descending order.  I would not have expected that to be honest. So lets take a minute and think about if this is the result that actually resembles the information from the data or if our data preparation could have caused this outcome.  \n",
    "\n",
    "If we look at our original dataset, most of the columns where ordinary and transformed with dummy columns in the data preparation process. This leads to a value that is either 0 or 1. But what about our numerical columns? "
   ]
  },
  {
   "cell_type": "code",
   "execution_count": 101,
   "id": "65785984",
   "metadata": {},
   "outputs": [
    {
     "data": {
      "text/html": [
       "<div>\n",
       "<style scoped>\n",
       "    .dataframe tbody tr th:only-of-type {\n",
       "        vertical-align: middle;\n",
       "    }\n",
       "\n",
       "    .dataframe tbody tr th {\n",
       "        vertical-align: top;\n",
       "    }\n",
       "\n",
       "    .dataframe thead th {\n",
       "        text-align: right;\n",
       "    }\n",
       "</style>\n",
       "<table border=\"1\" class=\"dataframe\">\n",
       "  <thead>\n",
       "    <tr style=\"text-align: right;\">\n",
       "      <th></th>\n",
       "      <th>JobSatisfaction</th>\n",
       "      <th>Salary</th>\n",
       "      <th>CareerSatisfaction</th>\n",
       "    </tr>\n",
       "  </thead>\n",
       "  <tbody>\n",
       "    <tr>\n",
       "      <th>count</th>\n",
       "      <td>34955.000000</td>\n",
       "      <td>35326.000000</td>\n",
       "      <td>35023.000000</td>\n",
       "    </tr>\n",
       "    <tr>\n",
       "      <th>mean</th>\n",
       "      <td>7.009612</td>\n",
       "      <td>50236.567884</td>\n",
       "      <td>7.447106</td>\n",
       "    </tr>\n",
       "    <tr>\n",
       "      <th>std</th>\n",
       "      <td>2.141212</td>\n",
       "      <td>36268.141750</td>\n",
       "      <td>1.824708</td>\n",
       "    </tr>\n",
       "    <tr>\n",
       "      <th>min</th>\n",
       "      <td>0.000000</td>\n",
       "      <td>0.000000</td>\n",
       "      <td>0.000000</td>\n",
       "    </tr>\n",
       "    <tr>\n",
       "      <th>25%</th>\n",
       "      <td>6.000000</td>\n",
       "      <td>21343.552213</td>\n",
       "      <td>7.000000</td>\n",
       "    </tr>\n",
       "    <tr>\n",
       "      <th>50%</th>\n",
       "      <td>7.000000</td>\n",
       "      <td>44598.644324</td>\n",
       "      <td>8.000000</td>\n",
       "    </tr>\n",
       "    <tr>\n",
       "      <th>75%</th>\n",
       "      <td>8.000000</td>\n",
       "      <td>73730.186079</td>\n",
       "      <td>9.000000</td>\n",
       "    </tr>\n",
       "    <tr>\n",
       "      <th>max</th>\n",
       "      <td>10.000000</td>\n",
       "      <td>197000.000000</td>\n",
       "      <td>10.000000</td>\n",
       "    </tr>\n",
       "  </tbody>\n",
       "</table>\n",
       "</div>"
      ],
      "text/plain": [
       "       JobSatisfaction         Salary  CareerSatisfaction\n",
       "count     34955.000000   35326.000000        35023.000000\n",
       "mean          7.009612   50236.567884            7.447106\n",
       "std           2.141212   36268.141750            1.824708\n",
       "min           0.000000       0.000000            0.000000\n",
       "25%           6.000000   21343.552213            7.000000\n",
       "50%           7.000000   44598.644324            8.000000\n",
       "75%           8.000000   73730.186079            9.000000\n",
       "max          10.000000  197000.000000           10.000000"
      ]
     },
     "execution_count": 101,
     "metadata": {},
     "output_type": "execute_result"
    }
   ],
   "source": [
    "dev_subset_3.describe()"
   ]
  },
  {
   "cell_type": "markdown",
   "id": "35682e73",
   "metadata": {},
   "source": [
    "We can see, that the salary ranges from 197k to 0. This range is much bigger, than the 0-1 of the categorical values. This could be the reason for the very low coefficient of Salary. To avoid this, we need to implement rescaling to scale the Salary columns to 0-1. "
   ]
  },
  {
   "cell_type": "code",
   "execution_count": 102,
   "id": "e710f3d7",
   "metadata": {},
   "outputs": [
    {
     "data": {
      "text/plain": [
       "(array([2939., 1290., 1326., 1318., 1405., 1357., 1436., 1478., 1541.,\n",
       "        1570., 1569., 1393., 1451., 1323., 1087., 1231., 1152.,  975.,\n",
       "         894.,  953.,  845.,  745.,  753.,  539.,  546.,  588.,  520.,\n",
       "         601.,  382.,  433.,  412.,  273.,  247.,   91.,  119.,  101.,\n",
       "          73.,   22.,  102.,   38.,   51.,   28.,    9.,   38.,   24.,\n",
       "          26.,   10.,    4.,   10.,    8.]),\n",
       " array([0.    , 0.0197, 0.0394, 0.0591, 0.0788, 0.0985, 0.1182, 0.1379,\n",
       "        0.1576, 0.1773, 0.197 , 0.2167, 0.2364, 0.2561, 0.2758, 0.2955,\n",
       "        0.3152, 0.3349, 0.3546, 0.3743, 0.394 , 0.4137, 0.4334, 0.4531,\n",
       "        0.4728, 0.4925, 0.5122, 0.5319, 0.5516, 0.5713, 0.591 , 0.6107,\n",
       "        0.6304, 0.6501, 0.6698, 0.6895, 0.7092, 0.7289, 0.7486, 0.7683,\n",
       "        0.788 , 0.8077, 0.8274, 0.8471, 0.8668, 0.8865, 0.9062, 0.9259,\n",
       "        0.9456, 0.9653, 0.985 ]),\n",
       " <BarContainer object of 50 artists>)"
      ]
     },
     "execution_count": 102,
     "metadata": {},
     "output_type": "execute_result"
    },
    {
     "data": {
      "image/png": "[encoded data removed]",
      "text/plain": [
       "<Figure size 432x288 with 1 Axes>"
      ]
     },
     "metadata": {
      "needs_background": "light"
     },
     "output_type": "display_data"
    }
   ],
   "source": [
    "#scale the numerical values in dev_subset_3\n",
    "#https://scikit-learn.org/stable/modules/generated/sklearn.preprocessing.MinMaxScaler.html\n",
    "\n",
    "#Salary\n",
    "#max salary is 197k. to be able to interpret the coefficient easier, I will devide it by 200k\n",
    "\n",
    "salary_scaled = dev_subset_3['Salary']/200000\n",
    "\n",
    "plt.figure()\n",
    "plt.hist(salary_scaled,bins=50)"
   ]
  },
  {
   "cell_type": "code",
   "execution_count": 103,
   "id": "71461122",
   "metadata": {},
   "outputs": [
    {
     "data": {
      "text/plain": [
       "(array([ 190.,  117.,  289.,  685.,  944., 2282., 3748., 7867., 9418.,\n",
       "        4847., 4636.]),\n",
       " array([0.        , 0.09090909, 0.18181818, 0.27272727, 0.36363636,\n",
       "        0.45454545, 0.54545455, 0.63636364, 0.72727273, 0.81818182,\n",
       "        0.90909091, 1.        ]),\n",
       " <BarContainer object of 11 artists>)"
      ]
     },
     "execution_count": 103,
     "metadata": {},
     "output_type": "execute_result"
    },
    {
     "data": {
      "image/png": "[encoded data removed]",
      "text/plain": [
       "<Figure size 432x288 with 1 Axes>"
      ]
     },
     "metadata": {
      "needs_background": "light"
     },
     "output_type": "display_data"
    }
   ],
   "source": [
    "# scale CareerSatisfaction\n",
    "#Salary\n",
    "careersat_scaler = MinMaxScaler()\n",
    "careersat_scaler.fit(dev_subset_3['CareerSatisfaction'].values.reshape(-1, 1))\n",
    "careersat_scaled = careersat_scaler.transform(dev_subset_3['CareerSatisfaction'].values.reshape(-1, 1))\n",
    "\n",
    "plt.figure()\n",
    "plt.hist(careersat_scaled,bins=11)"
   ]
  },
  {
   "cell_type": "code",
   "execution_count": 104,
   "id": "c29c7d6c",
   "metadata": {},
   "outputs": [
    {
     "data": {
      "text/plain": [
       "(array([ 190.,  117.,  289.,  685.,  944., 2282., 3748., 7867., 9418.,\n",
       "        4847., 4636.]),\n",
       " array([0.        , 0.09090909, 0.18181818, 0.27272727, 0.36363636,\n",
       "        0.45454545, 0.54545455, 0.63636364, 0.72727273, 0.81818182,\n",
       "        0.90909091, 1.        ]),\n",
       " <BarContainer object of 11 artists>)"
      ]
     },
     "execution_count": 104,
     "metadata": {},
     "output_type": "execute_result"
    },
    {
     "data": {
      "image/png": "[encoded data removed]",
      "text/plain": [
       "<Figure size 432x288 with 1 Axes>"
      ]
     },
     "metadata": {
      "needs_background": "light"
     },
     "output_type": "display_data"
    }
   ],
   "source": [
    "# scale JobSatisfaction\n",
    "jobsat_scaler = MinMaxScaler()\n",
    "jobsat_scaler.fit(dev_subset_3['JobSatisfaction'].values.reshape(-1, 1))\n",
    "jobsat_scaled = jobsat_scaler.transform(dev_subset_3['JobSatisfaction'].values.reshape(-1, 1))\n",
    "\n",
    "plt.figure()\n",
    "plt.hist(careersat_scaled,bins=11)"
   ]
  },
  {
   "cell_type": "code",
   "execution_count": 105,
   "id": "f94284f3",
   "metadata": {},
   "outputs": [],
   "source": [
    "dev_subset_3_scaled = dev_subset_3.copy()\n",
    "\n",
    "dev_subset_3_scaled['Salary'] = salary_scaled\n",
    "\n",
    "dev_subset_3_scaled['CareerSatisfaction'] = careersat_scaled\n",
    "\n",
    "dev_subset_3_scaled['JobSatisfaction'] = jobsat_scaled"
   ]
  },
  {
   "cell_type": "code",
   "execution_count": 106,
   "id": "f8d9111b",
   "metadata": {},
   "outputs": [
    {
     "name": "stdout",
     "output_type": "stream",
     "text": [
      "True\n"
     ]
    },
    {
     "name": "stderr",
     "output_type": "stream",
     "text": [
      "C:\\Anaconda3\\lib\\site-packages\\pandas\\core\\generic.py:6383: SettingWithCopyWarning: \n",
      "A value is trying to be set on a copy of a slice from a DataFrame\n",
      "\n",
      "See the caveats in the documentation: https://pandas.pydata.org/pandas-docs/stable/user_guide/indexing.html#returning-a-view-versus-a-copy\n",
      "  return self._update_inplace(result)\n"
     ]
    },
    {
     "data": {
      "text/plain": [
       "(34955, 235)"
      ]
     },
     "execution_count": 106,
     "metadata": {},
     "output_type": "execute_result"
    }
   ],
   "source": [
    "#clean the data of dev_subset_3\n",
    "X_3_scaled,y_3_scaled = GetLinearRegressionInput(dev_subset_3_scaled, y_col='JobSatisfaction')\n",
    "\n",
    "print('Salary' in X_3_scaled.columns)\n",
    "\n",
    "X_3_scaled.shape"
   ]
  },
  {
   "cell_type": "code",
   "execution_count": 107,
   "id": "f4226d4f",
   "metadata": {},
   "outputs": [
    {
     "name": "stdout",
     "output_type": "stream",
     "text": [
      "test score: 0.4204808000438004\n",
      "train score: 0.42338981811516196\n"
     ]
    }
   ],
   "source": [
    "# repead the linear regression\n",
    "#perform linear regression\n",
    "Res_3_scaled = perform_linear_regression(X_3_scaled, y_3_scaled,normal=False)\n",
    "\n",
    "print('test score:',Res_3[0])\n",
    "print('train score:',Res_3[1])"
   ]
  },
  {
   "cell_type": "code",
   "execution_count": 108,
   "id": "2229d6c3",
   "metadata": {},
   "outputs": [
    {
     "name": "stdout",
     "output_type": "stream",
     "text": [
      "                                                index         0\n",
      "0                                  CareerSatisfaction  0.727916\n",
      "1                                     Country_Denmark  0.075374\n",
      "2                                     Country_Finland  0.072740\n",
      "3                                 Country_Netherlands  0.063213\n",
      "4                                      Country_Norway  0.062707\n",
      "5                                     Country_Croatia  0.062604\n",
      "6                              Country_Czech Republic  0.061334\n",
      "7                                   Country_Lithuania  0.061232\n",
      "8                          Country_Bosnia-Herzegovina  0.060400\n",
      "9                                     Country_Vietnam  0.058307\n",
      "10  DeveloperType_Web developer; Graphics programming  0.058115\n",
      "11                                    Country_Hungary  0.056248\n",
      "12                                     Country_Sweden  0.055601\n",
      "13                                    Country_Austria  0.055392\n",
      "14  DeveloperType_Embedded applications/devices de...  0.055264\n",
      "77/235\n",
      "['Salary' 0.014056586550903156]\n"
     ]
    }
   ],
   "source": [
    "#coefficient dataframe\n",
    "coeffs_3_scaled = pd.Series(Res_3_scaled[2].coef_, index=X_3_scaled.columns).sort_values(ascending = False)\n",
    "coeffs_3_scaled= coeffs_3_scaled.reset_index()\n",
    "salary_index = coeffs_3_scaled[coeffs_3_scaled['index'] =='Salary'].index[0]\n",
    "salary_coeff = coeffs_3_scaled[coeffs_3_scaled['index'] =='Salary'].values[0]\n",
    "\n",
    "print(coeffs_3_scaled.head(15))\n",
    "\n",
    "print(f'{salary_index}/{len(coeffs_3_scaled)}')\n",
    "print(salary_coeff)"
   ]
  },
  {
   "cell_type": "code",
   "execution_count": 42,
   "id": "5b182f06",
   "metadata": {},
   "outputs": [
    {
     "data": {
      "text/html": [
       "<div>\n",
       "<style scoped>\n",
       "    .dataframe tbody tr th:only-of-type {\n",
       "        vertical-align: middle;\n",
       "    }\n",
       "\n",
       "    .dataframe tbody tr th {\n",
       "        vertical-align: top;\n",
       "    }\n",
       "\n",
       "    .dataframe thead th {\n",
       "        text-align: right;\n",
       "    }\n",
       "</style>\n",
       "<table border=\"1\" class=\"dataframe\">\n",
       "  <thead>\n",
       "    <tr style=\"text-align: right;\">\n",
       "      <th></th>\n",
       "      <th>feature</th>\n",
       "      <th>coeff</th>\n",
       "    </tr>\n",
       "  </thead>\n",
       "  <tbody>\n",
       "    <tr>\n",
       "      <th>0</th>\n",
       "      <td>CareerSatisfaction</td>\n",
       "      <td>0.727916</td>\n",
       "    </tr>\n",
       "    <tr>\n",
       "      <th>1</th>\n",
       "      <td>Country_Denmark</td>\n",
       "      <td>0.075374</td>\n",
       "    </tr>\n",
       "    <tr>\n",
       "      <th>2</th>\n",
       "      <td>Country_Finland</td>\n",
       "      <td>0.072740</td>\n",
       "    </tr>\n",
       "    <tr>\n",
       "      <th>3</th>\n",
       "      <td>Country_Netherlands</td>\n",
       "      <td>0.063213</td>\n",
       "    </tr>\n",
       "    <tr>\n",
       "      <th>4</th>\n",
       "      <td>Country_Norway</td>\n",
       "      <td>0.062707</td>\n",
       "    </tr>\n",
       "  </tbody>\n",
       "</table>\n",
       "</div>"
      ],
      "text/plain": [
       "               feature     coeff\n",
       "0   CareerSatisfaction  0.727916\n",
       "1      Country_Denmark  0.075374\n",
       "2      Country_Finland  0.072740\n",
       "3  Country_Netherlands  0.063213\n",
       "4       Country_Norway  0.062707"
      ]
     },
     "execution_count": 42,
     "metadata": {},
     "output_type": "execute_result"
    }
   ],
   "source": [
    "coeffs_df = coeffs_3_scaled.copy()\n",
    "\n",
    "coeffs_df=coeffs_df.rename(columns={'index':'feature',0:'coeff'})\n",
    "\n",
    "coeffs_df.head()"
   ]
  },
  {
   "cell_type": "markdown",
   "id": "2f76b712",
   "metadata": {},
   "source": [
    "## Step 6: Evaluate the results"
   ]
  },
  {
   "cell_type": "markdown",
   "id": "de1bdd57",
   "metadata": {},
   "source": [
    "### Question 1: What are the most influecial factors for Job Satisfaction"
   ]
  },
  {
   "cell_type": "code",
   "execution_count": 43,
   "id": "a459aab5",
   "metadata": {},
   "outputs": [
    {
     "data": {
      "text/html": [
       "<div>\n",
       "<style scoped>\n",
       "    .dataframe tbody tr th:only-of-type {\n",
       "        vertical-align: middle;\n",
       "    }\n",
       "\n",
       "    .dataframe tbody tr th {\n",
       "        vertical-align: top;\n",
       "    }\n",
       "\n",
       "    .dataframe thead th {\n",
       "        text-align: right;\n",
       "    }\n",
       "</style>\n",
       "<table border=\"1\" class=\"dataframe\">\n",
       "  <thead>\n",
       "    <tr style=\"text-align: right;\">\n",
       "      <th></th>\n",
       "      <th>feature</th>\n",
       "      <th>coeff</th>\n",
       "    </tr>\n",
       "  </thead>\n",
       "  <tbody>\n",
       "    <tr>\n",
       "      <th>0</th>\n",
       "      <td>CareerSatisfaction</td>\n",
       "      <td>0.727916</td>\n",
       "    </tr>\n",
       "    <tr>\n",
       "      <th>1</th>\n",
       "      <td>Country_Denmark</td>\n",
       "      <td>0.075374</td>\n",
       "    </tr>\n",
       "    <tr>\n",
       "      <th>2</th>\n",
       "      <td>Country_Finland</td>\n",
       "      <td>0.072740</td>\n",
       "    </tr>\n",
       "    <tr>\n",
       "      <th>3</th>\n",
       "      <td>Country_Netherlands</td>\n",
       "      <td>0.063213</td>\n",
       "    </tr>\n",
       "    <tr>\n",
       "      <th>4</th>\n",
       "      <td>Country_Norway</td>\n",
       "      <td>0.062707</td>\n",
       "    </tr>\n",
       "    <tr>\n",
       "      <th>5</th>\n",
       "      <td>Country_Croatia</td>\n",
       "      <td>0.062604</td>\n",
       "    </tr>\n",
       "    <tr>\n",
       "      <th>6</th>\n",
       "      <td>Country_Czech Republic</td>\n",
       "      <td>0.061334</td>\n",
       "    </tr>\n",
       "    <tr>\n",
       "      <th>7</th>\n",
       "      <td>Country_Lithuania</td>\n",
       "      <td>0.061232</td>\n",
       "    </tr>\n",
       "    <tr>\n",
       "      <th>8</th>\n",
       "      <td>Country_Bosnia-Herzegovina</td>\n",
       "      <td>0.060400</td>\n",
       "    </tr>\n",
       "    <tr>\n",
       "      <th>9</th>\n",
       "      <td>Country_Vietnam</td>\n",
       "      <td>0.058307</td>\n",
       "    </tr>\n",
       "    <tr>\n",
       "      <th>10</th>\n",
       "      <td>DeveloperType_Web developer; Graphics programming</td>\n",
       "      <td>0.058115</td>\n",
       "    </tr>\n",
       "    <tr>\n",
       "      <th>11</th>\n",
       "      <td>Country_Hungary</td>\n",
       "      <td>0.056248</td>\n",
       "    </tr>\n",
       "    <tr>\n",
       "      <th>12</th>\n",
       "      <td>Country_Sweden</td>\n",
       "      <td>0.055601</td>\n",
       "    </tr>\n",
       "    <tr>\n",
       "      <th>13</th>\n",
       "      <td>Country_Austria</td>\n",
       "      <td>0.055392</td>\n",
       "    </tr>\n",
       "    <tr>\n",
       "      <th>14</th>\n",
       "      <td>DeveloperType_Embedded applications/devices de...</td>\n",
       "      <td>0.055264</td>\n",
       "    </tr>\n",
       "  </tbody>\n",
       "</table>\n",
       "</div>"
      ],
      "text/plain": [
       "                                              feature     coeff\n",
       "0                                  CareerSatisfaction  0.727916\n",
       "1                                     Country_Denmark  0.075374\n",
       "2                                     Country_Finland  0.072740\n",
       "3                                 Country_Netherlands  0.063213\n",
       "4                                      Country_Norway  0.062707\n",
       "5                                     Country_Croatia  0.062604\n",
       "6                              Country_Czech Republic  0.061334\n",
       "7                                   Country_Lithuania  0.061232\n",
       "8                          Country_Bosnia-Herzegovina  0.060400\n",
       "9                                     Country_Vietnam  0.058307\n",
       "10  DeveloperType_Web developer; Graphics programming  0.058115\n",
       "11                                    Country_Hungary  0.056248\n",
       "12                                     Country_Sweden  0.055601\n",
       "13                                    Country_Austria  0.055392\n",
       "14  DeveloperType_Embedded applications/devices de...  0.055264"
      ]
     },
     "execution_count": 43,
     "metadata": {},
     "output_type": "execute_result"
    }
   ],
   "source": [
    "# highest 15 coefficents\n",
    "\n",
    "coeffs_df.head(15)"
   ]
  },
  {
   "cell_type": "code",
   "execution_count": 44,
   "id": "0d216f0d",
   "metadata": {},
   "outputs": [
    {
     "data": {
      "text/html": [
       "<div>\n",
       "<style scoped>\n",
       "    .dataframe tbody tr th:only-of-type {\n",
       "        vertical-align: middle;\n",
       "    }\n",
       "\n",
       "    .dataframe tbody tr th {\n",
       "        vertical-align: top;\n",
       "    }\n",
       "\n",
       "    .dataframe thead th {\n",
       "        text-align: right;\n",
       "    }\n",
       "</style>\n",
       "<table border=\"1\" class=\"dataframe\">\n",
       "  <thead>\n",
       "    <tr style=\"text-align: right;\">\n",
       "      <th></th>\n",
       "      <th>feature</th>\n",
       "      <th>coeff</th>\n",
       "    </tr>\n",
       "  </thead>\n",
       "  <tbody>\n",
       "    <tr>\n",
       "      <th>220</th>\n",
       "      <td>DeveloperType_Web developer; Desktop applicati...</td>\n",
       "      <td>-0.026916</td>\n",
       "    </tr>\n",
       "    <tr>\n",
       "      <th>221</th>\n",
       "      <td>Country_United Arab Emirates</td>\n",
       "      <td>-0.027330</td>\n",
       "    </tr>\n",
       "    <tr>\n",
       "      <th>222</th>\n",
       "      <td>DeveloperType_Web developer; Quality assurance...</td>\n",
       "      <td>-0.028832</td>\n",
       "    </tr>\n",
       "    <tr>\n",
       "      <th>223</th>\n",
       "      <td>KinshipDevelopers_Strongly disagree</td>\n",
       "      <td>-0.035446</td>\n",
       "    </tr>\n",
       "    <tr>\n",
       "      <th>224</th>\n",
       "      <td>DeveloperType_Database administrator</td>\n",
       "      <td>-0.037454</td>\n",
       "    </tr>\n",
       "    <tr>\n",
       "      <th>225</th>\n",
       "      <td>Country_Peru</td>\n",
       "      <td>-0.039388</td>\n",
       "    </tr>\n",
       "    <tr>\n",
       "      <th>226</th>\n",
       "      <td>DeveloperType_Machine learning specialist; Dat...</td>\n",
       "      <td>-0.040371</td>\n",
       "    </tr>\n",
       "    <tr>\n",
       "      <th>227</th>\n",
       "      <td>DeveloperType_Web developer; Desktop applicati...</td>\n",
       "      <td>-0.040813</td>\n",
       "    </tr>\n",
       "    <tr>\n",
       "      <th>228</th>\n",
       "      <td>Gender_Gender non-conforming</td>\n",
       "      <td>-0.053719</td>\n",
       "    </tr>\n",
       "    <tr>\n",
       "      <th>229</th>\n",
       "      <td>Country_Dominican Republic</td>\n",
       "      <td>-0.054736</td>\n",
       "    </tr>\n",
       "    <tr>\n",
       "      <th>230</th>\n",
       "      <td>Country_Nepal</td>\n",
       "      <td>-0.059142</td>\n",
       "    </tr>\n",
       "    <tr>\n",
       "      <th>231</th>\n",
       "      <td>DeveloperType_Web developer; Desktop applicati...</td>\n",
       "      <td>-0.062946</td>\n",
       "    </tr>\n",
       "    <tr>\n",
       "      <th>232</th>\n",
       "      <td>Country_Nigeria</td>\n",
       "      <td>-0.063060</td>\n",
       "    </tr>\n",
       "    <tr>\n",
       "      <th>233</th>\n",
       "      <td>Gender_Male; Gender non-conforming</td>\n",
       "      <td>-0.076159</td>\n",
       "    </tr>\n",
       "    <tr>\n",
       "      <th>234</th>\n",
       "      <td>Country_Egypt</td>\n",
       "      <td>-0.089577</td>\n",
       "    </tr>\n",
       "  </tbody>\n",
       "</table>\n",
       "</div>"
      ],
      "text/plain": [
       "                                               feature     coeff\n",
       "220  DeveloperType_Web developer; Desktop applicati... -0.026916\n",
       "221                       Country_United Arab Emirates -0.027330\n",
       "222  DeveloperType_Web developer; Quality assurance... -0.028832\n",
       "223                KinshipDevelopers_Strongly disagree -0.035446\n",
       "224               DeveloperType_Database administrator -0.037454\n",
       "225                                       Country_Peru -0.039388\n",
       "226  DeveloperType_Machine learning specialist; Dat... -0.040371\n",
       "227  DeveloperType_Web developer; Desktop applicati... -0.040813\n",
       "228                       Gender_Gender non-conforming -0.053719\n",
       "229                         Country_Dominican Republic -0.054736\n",
       "230                                      Country_Nepal -0.059142\n",
       "231  DeveloperType_Web developer; Desktop applicati... -0.062946\n",
       "232                                    Country_Nigeria -0.063060\n",
       "233                 Gender_Male; Gender non-conforming -0.076159\n",
       "234                                      Country_Egypt -0.089577"
      ]
     },
     "execution_count": 44,
     "metadata": {},
     "output_type": "execute_result"
    }
   ],
   "source": [
    "# lowes 15 coefficients\n",
    "\n",
    "coeffs_df.tail(15)"
   ]
  },
  {
   "cell_type": "markdown",
   "id": "06dcb55d",
   "metadata": {},
   "source": [
    "### Question: How does the developer Type influences the Job satisfaction?"
   ]
  },
  {
   "cell_type": "code",
   "execution_count": 45,
   "id": "4fdd4f6c",
   "metadata": {},
   "outputs": [],
   "source": [
    "#get the 20 most frequent devloper types\n",
    "\n",
    "dev_value_counts=dev_subset_3['DeveloperType'].value_counts()/len(dev_subset)\n",
    "\n",
    "dev_list = dev_value_counts.sort_values(ascending=False).head(20).index\n",
    "\n",
    "dev_type_subset = dev_subset_3[dev_subset_3['DeveloperType'].isin(dev_list)]"
   ]
  },
  {
   "cell_type": "code",
   "execution_count": 46,
   "id": "27ece0c3",
   "metadata": {},
   "outputs": [
    {
     "name": "stdout",
     "output_type": "stream",
     "text": [
      "7.009612358746961\n"
     ]
    }
   ],
   "source": [
    "mean_job_satisfaction=dev_subset_3['JobSatisfaction'].mean()\n",
    "\n",
    "print(mean_job_satisfaction)"
   ]
  },
  {
   "cell_type": "code",
   "execution_count": 47,
   "id": "f73425cc",
   "metadata": {},
   "outputs": [
    {
     "name": "stderr",
     "output_type": "stream",
     "text": [
      "C:\\Anaconda3\\lib\\site-packages\\pandas\\core\\frame.py:3607: SettingWithCopyWarning: \n",
      "A value is trying to be set on a copy of a slice from a DataFrame.\n",
      "Try using .loc[row_indexer,col_indexer] = value instead\n",
      "\n",
      "See the caveats in the documentation: https://pandas.pydata.org/pandas-docs/stable/user_guide/indexing.html#returning-a-view-versus-a-copy\n",
      "  self._set_item(key, value)\n"
     ]
    }
   ],
   "source": [
    "dev_type_subset['JobSatisfactionDev']=dev_type_subset['JobSatisfaction']-mean_job_satisfaction"
   ]
  },
  {
   "cell_type": "code",
   "execution_count": 48,
   "id": "38a029b8",
   "metadata": {},
   "outputs": [],
   "source": [
    "mean_career_satisfaction=dev_subset_3['CareerSatisfaction'].mean()\n",
    "\n",
    "dev_type_subset['CareerSatisfactionDev']=dev_type_subset['CareerSatisfaction']-mean_career_satisfaction"
   ]
  },
  {
   "cell_type": "code",
   "execution_count": 49,
   "id": "166b5f9a",
   "metadata": {
    "scrolled": true
   },
   "outputs": [
    {
     "data": {
      "text/html": [
       "<div>\n",
       "<style scoped>\n",
       "    .dataframe tbody tr th:only-of-type {\n",
       "        vertical-align: middle;\n",
       "    }\n",
       "\n",
       "    .dataframe tbody tr th {\n",
       "        vertical-align: top;\n",
       "    }\n",
       "\n",
       "    .dataframe thead th {\n",
       "        text-align: right;\n",
       "    }\n",
       "</style>\n",
       "<table border=\"1\" class=\"dataframe\">\n",
       "  <thead>\n",
       "    <tr style=\"text-align: right;\">\n",
       "      <th></th>\n",
       "      <th>JobSatisfaction</th>\n",
       "      <th>Salary</th>\n",
       "      <th>CareerSatisfaction</th>\n",
       "      <th>JobSatisfactionDev</th>\n",
       "      <th>CareerSatisfactionDev</th>\n",
       "    </tr>\n",
       "    <tr>\n",
       "      <th>DeveloperType</th>\n",
       "      <th></th>\n",
       "      <th></th>\n",
       "      <th></th>\n",
       "      <th></th>\n",
       "      <th></th>\n",
       "    </tr>\n",
       "  </thead>\n",
       "  <tbody>\n",
       "    <tr>\n",
       "      <th>Data scientist</th>\n",
       "      <td>6.974026</td>\n",
       "      <td>46528.959397</td>\n",
       "      <td>7.177966</td>\n",
       "      <td>-0.035586</td>\n",
       "      <td>-0.269140</td>\n",
       "    </tr>\n",
       "    <tr>\n",
       "      <th>Desktop applications developer</th>\n",
       "      <td>6.853957</td>\n",
       "      <td>51755.255121</td>\n",
       "      <td>7.171572</td>\n",
       "      <td>-0.155656</td>\n",
       "      <td>-0.275534</td>\n",
       "    </tr>\n",
       "    <tr>\n",
       "      <th>Developer with a statistics or mathematics background</th>\n",
       "      <td>6.935345</td>\n",
       "      <td>61685.479037</td>\n",
       "      <td>7.129032</td>\n",
       "      <td>-0.074268</td>\n",
       "      <td>-0.318074</td>\n",
       "    </tr>\n",
       "    <tr>\n",
       "      <th>Embedded applications/devices developer</th>\n",
       "      <td>6.927100</td>\n",
       "      <td>56728.784602</td>\n",
       "      <td>7.346519</td>\n",
       "      <td>-0.082513</td>\n",
       "      <td>-0.100587</td>\n",
       "    </tr>\n",
       "    <tr>\n",
       "      <th>Embedded applications/devices developer; Desktop applications developer</th>\n",
       "      <td>6.959641</td>\n",
       "      <td>57418.867516</td>\n",
       "      <td>7.560538</td>\n",
       "      <td>-0.049971</td>\n",
       "      <td>0.113432</td>\n",
       "    </tr>\n",
       "    <tr>\n",
       "      <th>Mobile developer</th>\n",
       "      <td>7.063858</td>\n",
       "      <td>36381.260983</td>\n",
       "      <td>7.519421</td>\n",
       "      <td>0.054245</td>\n",
       "      <td>0.072314</td>\n",
       "    </tr>\n",
       "    <tr>\n",
       "      <th>Mobile developer; Desktop applications developer</th>\n",
       "      <td>6.995614</td>\n",
       "      <td>46467.338547</td>\n",
       "      <td>7.491228</td>\n",
       "      <td>-0.013998</td>\n",
       "      <td>0.044122</td>\n",
       "    </tr>\n",
       "    <tr>\n",
       "      <th>Other</th>\n",
       "      <td>7.162667</td>\n",
       "      <td>71874.590632</td>\n",
       "      <td>7.503979</td>\n",
       "      <td>0.153054</td>\n",
       "      <td>0.056873</td>\n",
       "    </tr>\n",
       "    <tr>\n",
       "      <th>Web developer</th>\n",
       "      <td>6.928338</td>\n",
       "      <td>47560.686488</td>\n",
       "      <td>7.394633</td>\n",
       "      <td>-0.081275</td>\n",
       "      <td>-0.052473</td>\n",
       "    </tr>\n",
       "    <tr>\n",
       "      <th>Web developer; Database administrator</th>\n",
       "      <td>7.116935</td>\n",
       "      <td>40756.000438</td>\n",
       "      <td>7.509054</td>\n",
       "      <td>0.107323</td>\n",
       "      <td>0.061948</td>\n",
       "    </tr>\n",
       "    <tr>\n",
       "      <th>Web developer; Database administrator; Systems administrator</th>\n",
       "      <td>6.762887</td>\n",
       "      <td>44033.001114</td>\n",
       "      <td>7.395189</td>\n",
       "      <td>-0.246726</td>\n",
       "      <td>-0.051917</td>\n",
       "    </tr>\n",
       "    <tr>\n",
       "      <th>Web developer; Desktop applications developer</th>\n",
       "      <td>6.813058</td>\n",
       "      <td>49049.435189</td>\n",
       "      <td>7.288344</td>\n",
       "      <td>-0.196554</td>\n",
       "      <td>-0.158763</td>\n",
       "    </tr>\n",
       "    <tr>\n",
       "      <th>Web developer; Desktop applications developer; Database administrator</th>\n",
       "      <td>6.625337</td>\n",
       "      <td>48261.457509</td>\n",
       "      <td>7.237197</td>\n",
       "      <td>-0.384275</td>\n",
       "      <td>-0.209909</td>\n",
       "    </tr>\n",
       "    <tr>\n",
       "      <th>Web developer; DevOps specialist</th>\n",
       "      <td>7.182209</td>\n",
       "      <td>59640.490157</td>\n",
       "      <td>7.652798</td>\n",
       "      <td>0.172597</td>\n",
       "      <td>0.205692</td>\n",
       "    </tr>\n",
       "    <tr>\n",
       "      <th>Web developer; Developer with a statistics or mathematics background</th>\n",
       "      <td>6.896629</td>\n",
       "      <td>53501.086851</td>\n",
       "      <td>7.170787</td>\n",
       "      <td>-0.112983</td>\n",
       "      <td>-0.276320</td>\n",
       "    </tr>\n",
       "  </tbody>\n",
       "</table>\n",
       "</div>"
      ],
      "text/plain": [
       "                                                    JobSatisfaction  \\\n",
       "DeveloperType                                                         \n",
       "Data scientist                                             6.974026   \n",
       "Desktop applications developer                             6.853957   \n",
       "Developer with a statistics or mathematics back...         6.935345   \n",
       "Embedded applications/devices developer                    6.927100   \n",
       "Embedded applications/devices developer; Deskto...         6.959641   \n",
       "Mobile developer                                           7.063858   \n",
       "Mobile developer; Desktop applications developer           6.995614   \n",
       "Other                                                      7.162667   \n",
       "Web developer                                              6.928338   \n",
       "Web developer; Database administrator                      7.116935   \n",
       "Web developer; Database administrator; Systems ...         6.762887   \n",
       "Web developer; Desktop applications developer              6.813058   \n",
       "Web developer; Desktop applications developer; ...         6.625337   \n",
       "Web developer; DevOps specialist                           7.182209   \n",
       "Web developer; Developer with a statistics or m...         6.896629   \n",
       "\n",
       "                                                          Salary  \\\n",
       "DeveloperType                                                      \n",
       "Data scientist                                      46528.959397   \n",
       "Desktop applications developer                      51755.255121   \n",
       "Developer with a statistics or mathematics back...  61685.479037   \n",
       "Embedded applications/devices developer             56728.784602   \n",
       "Embedded applications/devices developer; Deskto...  57418.867516   \n",
       "Mobile developer                                    36381.260983   \n",
       "Mobile developer; Desktop applications developer    46467.338547   \n",
       "Other                                               71874.590632   \n",
       "Web developer                                       47560.686488   \n",
       "Web developer; Database administrator               40756.000438   \n",
       "Web developer; Database administrator; Systems ...  44033.001114   \n",
       "Web developer; Desktop applications developer       49049.435189   \n",
       "Web developer; Desktop applications developer; ...  48261.457509   \n",
       "Web developer; DevOps specialist                    59640.490157   \n",
       "Web developer; Developer with a statistics or m...  53501.086851   \n",
       "\n",
       "                                                    CareerSatisfaction  \\\n",
       "DeveloperType                                                            \n",
       "Data scientist                                                7.177966   \n",
       "Desktop applications developer                                7.171572   \n",
       "Developer with a statistics or mathematics back...            7.129032   \n",
       "Embedded applications/devices developer                       7.346519   \n",
       "Embedded applications/devices developer; Deskto...            7.560538   \n",
       "Mobile developer                                              7.519421   \n",
       "Mobile developer; Desktop applications developer              7.491228   \n",
       "Other                                                         7.503979   \n",
       "Web developer                                                 7.394633   \n",
       "Web developer; Database administrator                         7.509054   \n",
       "Web developer; Database administrator; Systems ...            7.395189   \n",
       "Web developer; Desktop applications developer                 7.288344   \n",
       "Web developer; Desktop applications developer; ...            7.237197   \n",
       "Web developer; DevOps specialist                              7.652798   \n",
       "Web developer; Developer with a statistics or m...            7.170787   \n",
       "\n",
       "                                                    JobSatisfactionDev  \\\n",
       "DeveloperType                                                            \n",
       "Data scientist                                               -0.035586   \n",
       "Desktop applications developer                               -0.155656   \n",
       "Developer with a statistics or mathematics back...           -0.074268   \n",
       "Embedded applications/devices developer                      -0.082513   \n",
       "Embedded applications/devices developer; Deskto...           -0.049971   \n",
       "Mobile developer                                              0.054245   \n",
       "Mobile developer; Desktop applications developer             -0.013998   \n",
       "Other                                                         0.153054   \n",
       "Web developer                                                -0.081275   \n",
       "Web developer; Database administrator                         0.107323   \n",
       "Web developer; Database administrator; Systems ...           -0.246726   \n",
       "Web developer; Desktop applications developer                -0.196554   \n",
       "Web developer; Desktop applications developer; ...           -0.384275   \n",
       "Web developer; DevOps specialist                              0.172597   \n",
       "Web developer; Developer with a statistics or m...           -0.112983   \n",
       "\n",
       "                                                    CareerSatisfactionDev  \n",
       "DeveloperType                                                              \n",
       "Data scientist                                                  -0.269140  \n",
       "Desktop applications developer                                  -0.275534  \n",
       "Developer with a statistics or mathematics back...              -0.318074  \n",
       "Embedded applications/devices developer                         -0.100587  \n",
       "Embedded applications/devices developer; Deskto...               0.113432  \n",
       "Mobile developer                                                 0.072314  \n",
       "Mobile developer; Desktop applications developer                 0.044122  \n",
       "Other                                                            0.056873  \n",
       "Web developer                                                   -0.052473  \n",
       "Web developer; Database administrator                            0.061948  \n",
       "Web developer; Database administrator; Systems ...              -0.051917  \n",
       "Web developer; Desktop applications developer                   -0.158763  \n",
       "Web developer; Desktop applications developer; ...              -0.209909  \n",
       "Web developer; DevOps specialist                                 0.205692  \n",
       "Web developer; Developer with a statistics or m...              -0.276320  "
      ]
     },
     "execution_count": 49,
     "metadata": {},
     "output_type": "execute_result"
    }
   ],
   "source": [
    "dev_type_subset=dev_type_subset.groupby(by=['DeveloperType']).mean()\n",
    "dev_type_subset.reset_index()\n",
    "dev_type_subset.head(15)"
   ]
  },
  {
   "cell_type": "code",
   "execution_count": 135,
   "id": "9def6887",
   "metadata": {
    "scrolled": true
   },
   "outputs": [
    {
     "data": {
      "text/plain": [
       "<AxesSubplot:ylabel='DeveloperType'>"
      ]
     },
     "execution_count": 135,
     "metadata": {},
     "output_type": "execute_result"
    },
    {
     "data": {
      "image/png": "[encoded data removed]",
      "text/plain": [
       "<Figure size 360x504 with 1 Axes>"
      ]
     },
     "metadata": {
      "needs_background": "light"
     },
     "output_type": "display_data"
    }
   ],
   "source": [
    "dev_type_subset[['JobSatisfactionDev','CareerSatisfactionDev']].plot.barh(figsize=(5,7))"
   ]
  },
  {
   "cell_type": "markdown",
   "id": "5fd6ea09",
   "metadata": {},
   "source": [
    "### Question: What influence does the salary have on the Job satisfaction?"
   ]
  },
  {
   "cell_type": "code",
   "execution_count": 57,
   "id": "020ef4e0",
   "metadata": {},
   "outputs": [
    {
     "data": {
      "text/html": [
       "<div>\n",
       "<style scoped>\n",
       "    .dataframe tbody tr th:only-of-type {\n",
       "        vertical-align: middle;\n",
       "    }\n",
       "\n",
       "    .dataframe tbody tr th {\n",
       "        vertical-align: top;\n",
       "    }\n",
       "\n",
       "    .dataframe thead th {\n",
       "        text-align: right;\n",
       "    }\n",
       "</style>\n",
       "<table border=\"1\" class=\"dataframe\">\n",
       "  <thead>\n",
       "    <tr style=\"text-align: right;\">\n",
       "      <th></th>\n",
       "      <th>feature</th>\n",
       "      <th>coeff</th>\n",
       "    </tr>\n",
       "  </thead>\n",
       "  <tbody>\n",
       "    <tr>\n",
       "      <th>130</th>\n",
       "      <td>Salary</td>\n",
       "      <td>0.000703</td>\n",
       "    </tr>\n",
       "  </tbody>\n",
       "</table>\n",
       "</div>"
      ],
      "text/plain": [
       "    feature     coeff\n",
       "130  Salary  0.000703"
      ]
     },
     "execution_count": 57,
     "metadata": {},
     "output_type": "execute_result"
    }
   ],
   "source": [
    "coeffs_df[coeffs_df['feature']=='Salary']"
   ]
  },
  {
   "cell_type": "markdown",
   "id": "8216be3d",
   "metadata": {},
   "source": [
    "This means, that an increase in Salary of 200k raises the job satisfaction of 0.0007 This is not really a lot. "
   ]
  },
  {
   "cell_type": "code",
   "execution_count": 60,
   "id": "8df35bf0",
   "metadata": {},
   "outputs": [
    {
     "name": "stdout",
     "output_type": "stream",
     "text": [
      "0.25    21343.552213\n",
      "0.75    73730.186079\n",
      "Name: Salary, dtype: float64\n",
      "21343.55221321762\n"
     ]
    }
   ],
   "source": [
    "# introduce a Salary_class column with the opions 25%lowest, 25% highest, middle\n",
    "tresh = dev_subset_3['Salary'].quantile([0.25,0.75])\n",
    "\n",
    "print(tresh)"
   ]
  },
  {
   "cell_type": "code",
   "execution_count": 112,
   "id": "e4627e7f",
   "metadata": {},
   "outputs": [
    {
     "name": "stderr",
     "output_type": "stream",
     "text": [
      "<ipython-input-112-9ae8ef809e86>:4: SettingWithCopyWarning: \n",
      "A value is trying to be set on a copy of a slice from a DataFrame\n",
      "\n",
      "See the caveats in the documentation: https://pandas.pydata.org/pandas-docs/stable/user_guide/indexing.html#returning-a-view-versus-a-copy\n",
      "  dev_subset_3['Salary_class'][dev_subset_3['Salary'] >= tresh[0.75]] = '25% highest'\n",
      "<ipython-input-112-9ae8ef809e86>:6: SettingWithCopyWarning: \n",
      "A value is trying to be set on a copy of a slice from a DataFrame\n",
      "\n",
      "See the caveats in the documentation: https://pandas.pydata.org/pandas-docs/stable/user_guide/indexing.html#returning-a-view-versus-a-copy\n",
      "  dev_subset_3['Salary_class'][dev_subset_3['Salary'] <= tresh[0.25]] = '25% lowest'\n"
     ]
    }
   ],
   "source": [
    "# add Salary_class column\n",
    "dev_subset_3['Salary_class'] ='middle'\n",
    "\n",
    "dev_subset_3['Salary_class'][dev_subset_3['Salary'] >= tresh[0.75]] = '25% highest'\n",
    "\n",
    "dev_subset_3['Salary_class'][dev_subset_3['Salary'] <= tresh[0.25]] = '25% lowest'\n"
   ]
  },
  {
   "cell_type": "code",
   "execution_count": 123,
   "id": "2a672647",
   "metadata": {},
   "outputs": [
    {
     "data": {
      "text/plain": [
       "(0.0, 0.2)"
      ]
     },
     "execution_count": 123,
     "metadata": {},
     "output_type": "execute_result"
    },
    {
     "data": {
      "image/png": "[encoded data removed]",
      "text/plain": [
       "<Figure size 432x288 with 1 Axes>"
      ]
     },
     "metadata": {
      "needs_background": "light"
     },
     "output_type": "display_data"
    }
   ],
   "source": [
    "# plot data\n",
    "\n",
    "sns.histplot(data=dev_subset_3,x='JobSatisfaction',hue='Salary_class',element=\"step\",stat=\"density\",bins=11)\n",
    "plt.ylim([0,0.2])"
   ]
  },
  {
   "cell_type": "code",
   "execution_count": null,
   "id": "7f32efc2",
   "metadata": {},
   "outputs": [],
   "source": []
  }
 ],
 "metadata": {
  "kernelspec": {
   "display_name": "Python 3",
   "language": "python",
   "name": "python3"
  },
  "language_info": {
   "codemirror_mode": {
    "name": "ipython",
    "version": 3
   },
   "file_extension": ".py",
   "mimetype": "text/x-python",
   "name": "python",
   "nbconvert_exporter": "python",
   "pygments_lexer": "ipython3",
   "version": "3.8.10"
  }
 },
 "nbformat": 4,
 "nbformat_minor": 5
}
